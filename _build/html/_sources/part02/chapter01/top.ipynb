{
 "cells": [
  {
   "cell_type": "markdown",
   "id": "bb8febe2-5d93-408b-a594-dcdc329b88ba",
   "metadata": {},
   "source": [
    "# 03. Learning Evaluation\n",
    "\n",
    "## Why\n",
    "\n",
    "We plan, design and deliver learning to do 'something' (help newbies get onboard,\n",
    "help new grads understand the business, help new managers understand the ropes, remind\n",
    "everyone about the importance of compliance etc) so of course we (and our clients/decision makers)\n",
    "want to know if we actually did it. That is why we evaluate learning.\n",
    "\n",
    "## What\n",
    "\n",
    "In most cases we do a simple survey/questionnaire of participants after the learning event (e-learning, video, \n",
    "interactive digital content, face-to-face session, all-employee-meeting etc), analyze and make a judgement on\n",
    "the data.\n",
    "\n",
    "## When\n",
    "\n",
    "Just after the learning (as soon as digital learning completes, on last day of face-to-face program)\n",
    "\n",
    "## Where\n",
    "\n",
    "Your survey system (your LMS, Microsoft Forms or some free web service)\n",
    "\n",
    "## Who\n",
    "\n",
    "Your survey system\n",
    "\n",
    "## To Whom\n",
    "\n",
    "The learning participants\n",
    "\n",
    "## How\n",
    "\n",
    "When preparing your learning event/content make sure you decide:\n",
    "\n",
    "1. How rigorously you want to evaluate\n",
    "2. The points you want to evaluate\n",
    "3. The tool you will use to conduct the survey/questionnaire\n",
    "4. How you will analyze and present the survey/questionnaire results\n",
    "\n",
    "### Decide how rigorously you want to evaluate\n",
    "\n",
    "Is this a mjor new organizational change event driven the the CEO? In that case a high degree of\n",
    "rigour is demanded. Or is this an annual compliance e-learning that everyone has experienced many times\n",
    "any whose content is mostly the same each year? In which case the default LMS e-learning questionnaire format\n",
    "of 3 or 4 questions would more than suffice.\n",
    "\n",
    "### Decide the points you want to evaluate\n",
    "\n",
    "Of course, the learning aim is a must. \n",
    "\n",
    "### Decide what tool you will use to conduct the survey/questionnaire\n",
    "### Decide how you will analyze and present the survey/questionnaire results"
   ]
  },
  {
   "cell_type": "code",
   "execution_count": null,
   "id": "e6abc519-1a4f-4c67-8ba9-6c577c4d00e7",
   "metadata": {},
   "outputs": [],
   "source": []
  }
 ],
 "metadata": {
  "kernelspec": {
   "display_name": "Python 3 (ipykernel)",
   "language": "python",
   "name": "python3"
  },
  "language_info": {
   "codemirror_mode": {
    "name": "ipython",
    "version": 3
   },
   "file_extension": ".py",
   "mimetype": "text/x-python",
   "name": "python",
   "nbconvert_exporter": "python",
   "pygments_lexer": "ipython3",
   "version": "3.8.12"
  }
 },
 "nbformat": 4,
 "nbformat_minor": 5
}
