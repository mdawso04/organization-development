{
 "cells": [
  {
   "cell_type": "code",
   "execution_count": null,
   "id": "547cd17b-8c47-4d9b-bdae-ca469c7979b5",
   "metadata": {},
   "outputs": [],
   "source": []
  },
  {
   "cell_type": "code",
   "execution_count": 1,
   "id": "09ea1330-15fc-45b4-8ab8-5e3551f4c8cc",
   "metadata": {
    "tags": [
     "remove-input",
     "remove-output"
    ]
   },
   "outputs": [],
   "source": [
    "from myst_nb import glue\n",
    "import pandas as pd\n",
    "import numpy as np\n",
    "\n",
    "# initialize list of lists\n",
    "data = [['Participant1', 5, 3, 5, 4, 4], ['Participant2', 2, 2, 5, 4, 4], ['Participant3', 5, 5, 5, 5, 5], ['Participant4', 5, 5, 5, 5, 5], ['Participant5', 5, 5, 5, 5, 5]]\n",
    " \n",
    "# Create the pandas DataFrame\n",
    "df = pd.DataFrame(data, columns = ['Participant', 'Satisfaction', 'Value', 'Aim achievement', 'Content quality', 'Instruction quality'])\n",
    "\n",
    "df_long = pd.melt(df, id_vars=['Participant'], value_vars=['Satisfaction', 'Value', 'Aim achievement', 'Content quality', 'Instruction quality'])\n",
    "\n",
    "df_long_aff = df_long.copy()\n",
    "df_long_aff['Affirmative_flag'] = np.where(df_long_aff['value']>4, 1, 0)\n",
    "\n",
    "df_long_aff_group = df_long_aff.groupby(['variable']).mean()\n",
    "\n",
    "#glue(\"plot\", plot)\n",
    "#glue(\"df\", df)\n",
    "#plot.show()"
   ]
  },
  {
   "cell_type": "markdown",
   "id": "bb8febe2-5d93-408b-a594-dcdc329b88ba",
   "metadata": {},
   "source": [
    "# Learning Evaluation\n",
    "\n",
    "Learning evaluation is simply checking the impact of our training, event, digital content or other learning intervention on \n",
    "our target audience and comparing that to the desired impact in order to judge if we achieved our planned outcomes.\n",
    "\n",
    "## Executive Summary\n",
    "\n",
    "##### Why is learning evaluation important\n",
    "To make our organizations better, we plan, design and deliver learning interventions to do 'something' (help newbies get onboard, help new grads \n",
    "understand the business, help new managers get the ropes, penetrate a new corporate philosophy company-wide, remind employees about the importance of compliance etc) so of course we and our decision makers want to know if we actually achieved what we set out to do. Without knowing this, we can't decide whether to continue the intervention as it, refine it, or stop it altogether. Evaluating learning impact and reporting that impact to decision makers answers this need.\n",
    "\n",
    "##### What does learning evaluation look like\n",
    "In most cases we simply take some form of survey to measure the level of knowledge, skills, attitudes or other characteristics concerned after the learning intervention (e-learning, video, interactive digital content, face-to-face session, all-employee-meeting, year-long leader development program etc) is complete. With the increasingly rapidly changing business environment demanding more agile interventions, with greater role particularly for digital content, together with the availability of free/low-cost survey tools that can be designed, delivered, answered and summarized in minutes (eg Microsoft Forms), there is a trend towards simpler, lighter learning evaluation with as little as 5 or so survey questions including result and factor questions. On the other hand, larger scale interventions such as improving employee engagement for particular groups of employees, demand dozens of survey questions in order to more accurately grasp current employee engagement levels, and ongoing regular surveys (say, yearly or twice yearly) in order to provide time-series data for more rigorous analysis.   \n",
    "\n",
    "Below is a comparison of various learning intervention evaluations:\n",
    "\n",
    "```{list-table} Evaluation approaches for various learning interventions\n",
    ":header-rows: 1\n",
    "\n",
    "* - Learning intervention\n",
    "  - No questions\n",
    "  - Timing\n",
    "  - Format\n",
    "* - Onboarding digital learning\n",
    "  - 5\n",
    "  - End of learning\n",
    "  - LMS survey or Microsoft Forms\n",
    "* - Employee engagement intervention\n",
    "  - 30+\n",
    "  - Ongoing, 1 time a year\n",
    "  - Vendor system or Microsoft Forms\n",
    "```\n",
    "\n",
    "##### What is best-practice of learning evaluation\n",
    "The practitioner accepted gold-standard minimum requirement of learning evaluation is the Kirkpatrick model. Originally proposed in the 1950s, the vasious versions are useful because they distinguish between 5 levels of learning impact from immediate learner satisfaction with participation in the experience to organizational return-on-investment (ROI). By referencing this model when planning learning evaluations, organizations can ensure they 1) have the minimum understanding of the mechanism of learning impact in organizations to avoid making basic errors in evaluation planning and 2) can effeciently communicate requirements to outside vendors when utilizing them inside an organization development strategy.      \n",
    "\n",
    "## Practitioner Guide\n",
    "In practice, learning evaluation is generally conducted as follows, paying particular attention to the mentioned points.\n",
    "\n",
    "##### Confirm KPI & Target Value\n",
    "KPI (key performance indicator) is a quantitative measure representative of the thing we want to improve (participant satisfaction with a learning intervention, employee engagement or wellbeing); target is the specific value of our KPI that we want to achieve (employee satisfaction of 80%, employee engagement of 70%). In practice, we would decide the KPI and target value at the same time as when we decide the need for the intervention itself, usually part of a previous investigation into some organization problem. In terms of learning evaluation, we are most concerned here with ensuring the KPI and target are clearly defined and we understand them well before we move to preparing the survey. \n",
    "\n",
    "##### Design survey\n",
    "Survey is the instrument for collecting the information we need for learning evaluation. In contrast to exploratory surveys, we design learning evaluation surveys to collect precisely only the information we need, no more, no less. This information will be 1) the KPI (participant satisfaction with the learning intervention, employee engagement) and 2) any 'factor' index/indices (say, relevance of learning intervention aims to participants' current needs or participants' perceived achievement of learning interventions stated aims). We will use the KPI results to judge if our intervention had the expected impact. We use The factor results to confirm why the target was, or wasn't, met. If the target isn't achieved this time, the factor indices provide a starting point for further refining the intervention for follow up runs. \n",
    "\n",
    "##### Deliver survey\n",
    "The concern for practitioners here is to deliver to all target employees or a sample. In most cases, the answer will be clear from the aim, size, timing, importance, urgency of the intervention. For example, a year-long leadership development program with 15 participants from various global subsidiary companies we would collect feedback from all, paying attention to follow up missing responses. For a company-wide compliance awareness month delivered digitally, we would also ask all participants for feedback, however, expecting a lower response rate of say between 30-60%. \n",
    "\n",
    "##### Summarize survey results and judge impact\n",
    "The 2 concerns here are 1) how to handle incomplete responses (incomplete or invalid survey responses), and 2) how to judge close results. With increasing availability of high quality survey tools, incomplete responses are mostly caused by poor survey form preparation, such as accidently setting MUST questions as WANT questions, creating a possibility for survey respondents to either accidently miss questions or deliberatly avoid responding for some reason. Of course, we check forms several times before delivery to avoid such mistakes. However, in the event that the mistake is noticed after the fact, such responses are generally excluded before summarizing. This is to give our decision makers higher confidence in the summarized results. In cases where after summarizing, it is not clear if the target has been met (target: 70% survey results: 69.5% etc) we recommend a judgement to our decision makers. If our decision makers are familiar with statistical analysis, a Chi2 test can help judge the margin of error in our data, simplifying a judgement on impact. In other cases, supporting information can do the same. For example, if the survey was conducted slightly earlier than planned and the learning interventions impact was still incomplete, a result score slightly below the target may be judged a success. Similarly, if the survey response rate is lower than expected among some groups (say, a particular division) and those groups generally have higher scores than the average, again the intervention may be judged a success.       \n",
    "\n",
    "## Example: \n",
    "\n",
    "##### Survey questions\n",
    "1. How satisfied are you with this learning?\n",
    "   1. Extremely satisfied\n",
    "   2. Satisfied\n",
    "   3. Not sure\n",
    "   4. Not satisfied\n",
    "   5. Not at all satisfied\n",
    "       \n",
    "2. Do you think this learning will help you perform in your role from now on?\n",
    "   1. Yes, extremely\n",
    "   2. Yes\n",
    "   3. Not sure\n",
    "   4. No\n",
    "   5. Not at all\n",
    "       \n",
    "3. Do you think you achieve the aims of this learning?\n",
    "   1. Yes, definitely\n",
    "   2. Yes\n",
    "   3. Not sure\n",
    "   4. No\n",
    "   5. Not at all\n",
    "       \n",
    "4. Do you think the learning materials were appropriate to help you achieve the learning aims?\n",
    "   1. Yes, definitely\n",
    "   2. Yes\n",
    "   3. Not sure\n",
    "   4. No\n",
    "   5. Not at all\n",
    "       \n",
    "5. Do you think the instruction/faciliation was appropriate to help you achieve the learning aims?\n",
    "   1. Yes, definitely\n",
    "   2. Yes\n",
    "   3. Not sure\n",
    "   4. No\n",
    "   5. Not at all\n",
    "   \n",
    "##### Sample survey data\n",
    "Below is some typical data collected from a simple learning evaluation survey"
   ]
  },
  {
   "cell_type": "code",
   "execution_count": 2,
   "id": "a4e0b5e0-896d-4fa1-8817-c2c1332b2098",
   "metadata": {
    "tags": [
     "remove-input"
    ]
   },
   "outputs": [
    {
     "data": {
      "text/html": [
       "<div>\n",
       "<style scoped>\n",
       "    .dataframe tbody tr th:only-of-type {\n",
       "        vertical-align: middle;\n",
       "    }\n",
       "\n",
       "    .dataframe tbody tr th {\n",
       "        vertical-align: top;\n",
       "    }\n",
       "\n",
       "    .dataframe thead th {\n",
       "        text-align: right;\n",
       "    }\n",
       "</style>\n",
       "<table border=\"1\" class=\"dataframe\">\n",
       "  <thead>\n",
       "    <tr style=\"text-align: right;\">\n",
       "      <th></th>\n",
       "      <th>Participant</th>\n",
       "      <th>Satisfaction</th>\n",
       "      <th>Value</th>\n",
       "      <th>Aim achievement</th>\n",
       "      <th>Content quality</th>\n",
       "      <th>Instruction quality</th>\n",
       "    </tr>\n",
       "  </thead>\n",
       "  <tbody>\n",
       "    <tr>\n",
       "      <th>0</th>\n",
       "      <td>Participant1</td>\n",
       "      <td>5</td>\n",
       "      <td>3</td>\n",
       "      <td>5</td>\n",
       "      <td>4</td>\n",
       "      <td>4</td>\n",
       "    </tr>\n",
       "    <tr>\n",
       "      <th>1</th>\n",
       "      <td>Participant2</td>\n",
       "      <td>2</td>\n",
       "      <td>2</td>\n",
       "      <td>5</td>\n",
       "      <td>4</td>\n",
       "      <td>4</td>\n",
       "    </tr>\n",
       "    <tr>\n",
       "      <th>2</th>\n",
       "      <td>Participant3</td>\n",
       "      <td>5</td>\n",
       "      <td>5</td>\n",
       "      <td>5</td>\n",
       "      <td>5</td>\n",
       "      <td>5</td>\n",
       "    </tr>\n",
       "    <tr>\n",
       "      <th>3</th>\n",
       "      <td>Participant4</td>\n",
       "      <td>5</td>\n",
       "      <td>5</td>\n",
       "      <td>5</td>\n",
       "      <td>5</td>\n",
       "      <td>5</td>\n",
       "    </tr>\n",
       "    <tr>\n",
       "      <th>4</th>\n",
       "      <td>Participant5</td>\n",
       "      <td>5</td>\n",
       "      <td>5</td>\n",
       "      <td>5</td>\n",
       "      <td>5</td>\n",
       "      <td>5</td>\n",
       "    </tr>\n",
       "  </tbody>\n",
       "</table>\n",
       "</div>"
      ],
      "text/plain": [
       "    Participant  Satisfaction  Value  Aim achievement  Content quality  \\\n",
       "0  Participant1             5      3                5                4   \n",
       "1  Participant2             2      2                5                4   \n",
       "2  Participant3             5      5                5                5   \n",
       "3  Participant4             5      5                5                5   \n",
       "4  Participant5             5      5                5                5   \n",
       "\n",
       "   Instruction quality  \n",
       "0                    4  \n",
       "1                    4  \n",
       "2                    5  \n",
       "3                    5  \n",
       "4                    5  "
      ]
     },
     "execution_count": 2,
     "metadata": {},
     "output_type": "execute_result"
    }
   ],
   "source": [
    "df"
   ]
  },
  {
   "cell_type": "markdown",
   "id": "86e751c2-f6ce-4bde-820a-91a40660f116",
   "metadata": {},
   "source": [
    "To summarize KPI, we 'melt' (Pandas) or 'unpivot' (Microsoft Power Query) the data into a 'long' format, add an 'affirmative' flag, group and take the percentage"
   ]
  },
  {
   "cell_type": "code",
   "execution_count": 3,
   "id": "e2318cfa-8954-4d10-bd9a-c49c8a3f280e",
   "metadata": {
    "tags": [
     "remove-input"
    ]
   },
   "outputs": [
    {
     "data": {
      "text/html": [
       "<div>\n",
       "<style scoped>\n",
       "    .dataframe tbody tr th:only-of-type {\n",
       "        vertical-align: middle;\n",
       "    }\n",
       "\n",
       "    .dataframe tbody tr th {\n",
       "        vertical-align: top;\n",
       "    }\n",
       "\n",
       "    .dataframe thead th {\n",
       "        text-align: right;\n",
       "    }\n",
       "</style>\n",
       "<table border=\"1\" class=\"dataframe\">\n",
       "  <thead>\n",
       "    <tr style=\"text-align: right;\">\n",
       "      <th></th>\n",
       "      <th>Participant</th>\n",
       "      <th>variable</th>\n",
       "      <th>value</th>\n",
       "      <th>Affirmative_flag</th>\n",
       "    </tr>\n",
       "  </thead>\n",
       "  <tbody>\n",
       "    <tr>\n",
       "      <th>0</th>\n",
       "      <td>Participant1</td>\n",
       "      <td>Satisfaction</td>\n",
       "      <td>5</td>\n",
       "      <td>1</td>\n",
       "    </tr>\n",
       "    <tr>\n",
       "      <th>1</th>\n",
       "      <td>Participant2</td>\n",
       "      <td>Satisfaction</td>\n",
       "      <td>2</td>\n",
       "      <td>0</td>\n",
       "    </tr>\n",
       "    <tr>\n",
       "      <th>2</th>\n",
       "      <td>Participant3</td>\n",
       "      <td>Satisfaction</td>\n",
       "      <td>5</td>\n",
       "      <td>1</td>\n",
       "    </tr>\n",
       "    <tr>\n",
       "      <th>3</th>\n",
       "      <td>Participant4</td>\n",
       "      <td>Satisfaction</td>\n",
       "      <td>5</td>\n",
       "      <td>1</td>\n",
       "    </tr>\n",
       "    <tr>\n",
       "      <th>4</th>\n",
       "      <td>Participant5</td>\n",
       "      <td>Satisfaction</td>\n",
       "      <td>5</td>\n",
       "      <td>1</td>\n",
       "    </tr>\n",
       "    <tr>\n",
       "      <th>5</th>\n",
       "      <td>Participant1</td>\n",
       "      <td>Value</td>\n",
       "      <td>3</td>\n",
       "      <td>0</td>\n",
       "    </tr>\n",
       "    <tr>\n",
       "      <th>6</th>\n",
       "      <td>Participant2</td>\n",
       "      <td>Value</td>\n",
       "      <td>2</td>\n",
       "      <td>0</td>\n",
       "    </tr>\n",
       "    <tr>\n",
       "      <th>7</th>\n",
       "      <td>Participant3</td>\n",
       "      <td>Value</td>\n",
       "      <td>5</td>\n",
       "      <td>1</td>\n",
       "    </tr>\n",
       "    <tr>\n",
       "      <th>8</th>\n",
       "      <td>Participant4</td>\n",
       "      <td>Value</td>\n",
       "      <td>5</td>\n",
       "      <td>1</td>\n",
       "    </tr>\n",
       "    <tr>\n",
       "      <th>9</th>\n",
       "      <td>Participant5</td>\n",
       "      <td>Value</td>\n",
       "      <td>5</td>\n",
       "      <td>1</td>\n",
       "    </tr>\n",
       "    <tr>\n",
       "      <th>10</th>\n",
       "      <td>Participant1</td>\n",
       "      <td>Aim achievement</td>\n",
       "      <td>5</td>\n",
       "      <td>1</td>\n",
       "    </tr>\n",
       "    <tr>\n",
       "      <th>11</th>\n",
       "      <td>Participant2</td>\n",
       "      <td>Aim achievement</td>\n",
       "      <td>5</td>\n",
       "      <td>1</td>\n",
       "    </tr>\n",
       "    <tr>\n",
       "      <th>12</th>\n",
       "      <td>Participant3</td>\n",
       "      <td>Aim achievement</td>\n",
       "      <td>5</td>\n",
       "      <td>1</td>\n",
       "    </tr>\n",
       "    <tr>\n",
       "      <th>13</th>\n",
       "      <td>Participant4</td>\n",
       "      <td>Aim achievement</td>\n",
       "      <td>5</td>\n",
       "      <td>1</td>\n",
       "    </tr>\n",
       "    <tr>\n",
       "      <th>14</th>\n",
       "      <td>Participant5</td>\n",
       "      <td>Aim achievement</td>\n",
       "      <td>5</td>\n",
       "      <td>1</td>\n",
       "    </tr>\n",
       "    <tr>\n",
       "      <th>15</th>\n",
       "      <td>Participant1</td>\n",
       "      <td>Content quality</td>\n",
       "      <td>4</td>\n",
       "      <td>0</td>\n",
       "    </tr>\n",
       "    <tr>\n",
       "      <th>16</th>\n",
       "      <td>Participant2</td>\n",
       "      <td>Content quality</td>\n",
       "      <td>4</td>\n",
       "      <td>0</td>\n",
       "    </tr>\n",
       "    <tr>\n",
       "      <th>17</th>\n",
       "      <td>Participant3</td>\n",
       "      <td>Content quality</td>\n",
       "      <td>5</td>\n",
       "      <td>1</td>\n",
       "    </tr>\n",
       "    <tr>\n",
       "      <th>18</th>\n",
       "      <td>Participant4</td>\n",
       "      <td>Content quality</td>\n",
       "      <td>5</td>\n",
       "      <td>1</td>\n",
       "    </tr>\n",
       "    <tr>\n",
       "      <th>19</th>\n",
       "      <td>Participant5</td>\n",
       "      <td>Content quality</td>\n",
       "      <td>5</td>\n",
       "      <td>1</td>\n",
       "    </tr>\n",
       "    <tr>\n",
       "      <th>20</th>\n",
       "      <td>Participant1</td>\n",
       "      <td>Instruction quality</td>\n",
       "      <td>4</td>\n",
       "      <td>0</td>\n",
       "    </tr>\n",
       "    <tr>\n",
       "      <th>21</th>\n",
       "      <td>Participant2</td>\n",
       "      <td>Instruction quality</td>\n",
       "      <td>4</td>\n",
       "      <td>0</td>\n",
       "    </tr>\n",
       "    <tr>\n",
       "      <th>22</th>\n",
       "      <td>Participant3</td>\n",
       "      <td>Instruction quality</td>\n",
       "      <td>5</td>\n",
       "      <td>1</td>\n",
       "    </tr>\n",
       "    <tr>\n",
       "      <th>23</th>\n",
       "      <td>Participant4</td>\n",
       "      <td>Instruction quality</td>\n",
       "      <td>5</td>\n",
       "      <td>1</td>\n",
       "    </tr>\n",
       "    <tr>\n",
       "      <th>24</th>\n",
       "      <td>Participant5</td>\n",
       "      <td>Instruction quality</td>\n",
       "      <td>5</td>\n",
       "      <td>1</td>\n",
       "    </tr>\n",
       "  </tbody>\n",
       "</table>\n",
       "</div>"
      ],
      "text/plain": [
       "     Participant             variable  value  Affirmative_flag\n",
       "0   Participant1         Satisfaction      5                 1\n",
       "1   Participant2         Satisfaction      2                 0\n",
       "2   Participant3         Satisfaction      5                 1\n",
       "3   Participant4         Satisfaction      5                 1\n",
       "4   Participant5         Satisfaction      5                 1\n",
       "5   Participant1                Value      3                 0\n",
       "6   Participant2                Value      2                 0\n",
       "7   Participant3                Value      5                 1\n",
       "8   Participant4                Value      5                 1\n",
       "9   Participant5                Value      5                 1\n",
       "10  Participant1      Aim achievement      5                 1\n",
       "11  Participant2      Aim achievement      5                 1\n",
       "12  Participant3      Aim achievement      5                 1\n",
       "13  Participant4      Aim achievement      5                 1\n",
       "14  Participant5      Aim achievement      5                 1\n",
       "15  Participant1      Content quality      4                 0\n",
       "16  Participant2      Content quality      4                 0\n",
       "17  Participant3      Content quality      5                 1\n",
       "18  Participant4      Content quality      5                 1\n",
       "19  Participant5      Content quality      5                 1\n",
       "20  Participant1  Instruction quality      4                 0\n",
       "21  Participant2  Instruction quality      4                 0\n",
       "22  Participant3  Instruction quality      5                 1\n",
       "23  Participant4  Instruction quality      5                 1\n",
       "24  Participant5  Instruction quality      5                 1"
      ]
     },
     "execution_count": 3,
     "metadata": {},
     "output_type": "execute_result"
    }
   ],
   "source": [
    "df_long_aff"
   ]
  },
  {
   "cell_type": "code",
   "execution_count": 4,
   "id": "2d9ce42a-70b8-4983-a512-db01343da9ce",
   "metadata": {
    "tags": [
     "remove-input"
    ]
   },
   "outputs": [
    {
     "data": {
      "text/html": [
       "<div>\n",
       "<style scoped>\n",
       "    .dataframe tbody tr th:only-of-type {\n",
       "        vertical-align: middle;\n",
       "    }\n",
       "\n",
       "    .dataframe tbody tr th {\n",
       "        vertical-align: top;\n",
       "    }\n",
       "\n",
       "    .dataframe thead th {\n",
       "        text-align: right;\n",
       "    }\n",
       "</style>\n",
       "<table border=\"1\" class=\"dataframe\">\n",
       "  <thead>\n",
       "    <tr style=\"text-align: right;\">\n",
       "      <th></th>\n",
       "      <th>value</th>\n",
       "      <th>Affirmative_flag</th>\n",
       "    </tr>\n",
       "    <tr>\n",
       "      <th>variable</th>\n",
       "      <th></th>\n",
       "      <th></th>\n",
       "    </tr>\n",
       "  </thead>\n",
       "  <tbody>\n",
       "    <tr>\n",
       "      <th>Aim achievement</th>\n",
       "      <td>5.0</td>\n",
       "      <td>1.0</td>\n",
       "    </tr>\n",
       "    <tr>\n",
       "      <th>Content quality</th>\n",
       "      <td>4.6</td>\n",
       "      <td>0.6</td>\n",
       "    </tr>\n",
       "    <tr>\n",
       "      <th>Instruction quality</th>\n",
       "      <td>4.6</td>\n",
       "      <td>0.6</td>\n",
       "    </tr>\n",
       "    <tr>\n",
       "      <th>Satisfaction</th>\n",
       "      <td>4.4</td>\n",
       "      <td>0.8</td>\n",
       "    </tr>\n",
       "    <tr>\n",
       "      <th>Value</th>\n",
       "      <td>4.0</td>\n",
       "      <td>0.6</td>\n",
       "    </tr>\n",
       "  </tbody>\n",
       "</table>\n",
       "</div>"
      ],
      "text/plain": [
       "                     value  Affirmative_flag\n",
       "variable                                    \n",
       "Aim achievement        5.0               1.0\n",
       "Content quality        4.6               0.6\n",
       "Instruction quality    4.6               0.6\n",
       "Satisfaction           4.4               0.8\n",
       "Value                  4.0               0.6"
      ]
     },
     "execution_count": 4,
     "metadata": {},
     "output_type": "execute_result"
    }
   ],
   "source": [
    "df_long_aff_group"
   ]
  },
  {
   "cell_type": "markdown",
   "id": "1373a418-bb64-4207-a605-fce0751ee312",
   "metadata": {},
   "source": [
    "\n",
    "##### Sample survey data vizualization"
   ]
  },
  {
   "cell_type": "code",
   "execution_count": 10,
   "id": "b6100aa7-5175-412a-b108-d6351613d102",
   "metadata": {
    "tags": [
     "remove-input"
    ]
   },
   "outputs": [
    {
     "data": {
      "text/html": [
       "        <script type=\"text/javascript\">\n",
       "        window.PlotlyConfig = {MathJaxConfig: 'local'};\n",
       "        if (window.MathJax) {MathJax.Hub.Config({SVG: {font: \"STIX-Web\"}});}\n",
       "        if (typeof require !== 'undefined') {\n",
       "        require.undef(\"plotly\");\n",
       "        requirejs.config({\n",
       "            paths: {\n",
       "                'plotly': ['https://cdn.plot.ly/plotly-2.2.0.min']\n",
       "            }\n",
       "        });\n",
       "        require(['plotly'], function(Plotly) {\n",
       "            window._Plotly = Plotly;\n",
       "        });\n",
       "        }\n",
       "        </script>\n",
       "        "
      ]
     },
     "metadata": {},
     "output_type": "display_data"
    },
    {
     "data": {
      "application/vnd.plotly.v1+json": {
       "config": {
        "plotlyServerURL": "https://plot.ly"
       },
       "data": [
        {
         "alignmentgroup": "True",
         "bingroup": "x",
         "histfunc": "avg",
         "hovertemplate": "variable=%{x}<br>Participant=Participant1<br>avg of value=%{y}<extra></extra>",
         "legendgroup": "Satisfaction",
         "marker": {
          "color": "#636efa",
          "pattern": {
           "shape": ""
          }
         },
         "name": "Satisfaction",
         "offsetgroup": "Satisfaction",
         "orientation": "v",
         "showlegend": true,
         "type": "histogram",
         "x": [
          "Satisfaction"
         ],
         "xaxis": "x",
         "y": [
          5
         ],
         "yaxis": "y"
        },
        {
         "alignmentgroup": "True",
         "bingroup": "x",
         "histfunc": "avg",
         "hovertemplate": "variable=%{x}<br>Participant=Participant2<br>avg of value=%{y}<extra></extra>",
         "legendgroup": "Satisfaction",
         "marker": {
          "color": "#636efa",
          "pattern": {
           "shape": ""
          }
         },
         "name": "Satisfaction",
         "offsetgroup": "Satisfaction",
         "orientation": "v",
         "showlegend": false,
         "type": "histogram",
         "x": [
          "Satisfaction"
         ],
         "xaxis": "x2",
         "y": [
          2
         ],
         "yaxis": "y2"
        },
        {
         "alignmentgroup": "True",
         "bingroup": "x",
         "histfunc": "avg",
         "hovertemplate": "variable=%{x}<br>Participant=Participant3<br>avg of value=%{y}<extra></extra>",
         "legendgroup": "Satisfaction",
         "marker": {
          "color": "#636efa",
          "pattern": {
           "shape": ""
          }
         },
         "name": "Satisfaction",
         "offsetgroup": "Satisfaction",
         "orientation": "v",
         "showlegend": false,
         "type": "histogram",
         "x": [
          "Satisfaction"
         ],
         "xaxis": "x3",
         "y": [
          5
         ],
         "yaxis": "y3"
        },
        {
         "alignmentgroup": "True",
         "bingroup": "x",
         "histfunc": "avg",
         "hovertemplate": "variable=%{x}<br>Participant=Participant4<br>avg of value=%{y}<extra></extra>",
         "legendgroup": "Satisfaction",
         "marker": {
          "color": "#636efa",
          "pattern": {
           "shape": ""
          }
         },
         "name": "Satisfaction",
         "offsetgroup": "Satisfaction",
         "orientation": "v",
         "showlegend": false,
         "type": "histogram",
         "x": [
          "Satisfaction"
         ],
         "xaxis": "x4",
         "y": [
          5
         ],
         "yaxis": "y4"
        },
        {
         "alignmentgroup": "True",
         "bingroup": "x",
         "histfunc": "avg",
         "hovertemplate": "variable=%{x}<br>Participant=Participant5<br>avg of value=%{y}<extra></extra>",
         "legendgroup": "Satisfaction",
         "marker": {
          "color": "#636efa",
          "pattern": {
           "shape": ""
          }
         },
         "name": "Satisfaction",
         "offsetgroup": "Satisfaction",
         "orientation": "v",
         "showlegend": false,
         "type": "histogram",
         "x": [
          "Satisfaction"
         ],
         "xaxis": "x5",
         "y": [
          5
         ],
         "yaxis": "y5"
        },
        {
         "alignmentgroup": "True",
         "bingroup": "x",
         "histfunc": "avg",
         "hovertemplate": "variable=%{x}<br>Participant=Participant1<br>avg of value=%{y}<extra></extra>",
         "legendgroup": "Value",
         "marker": {
          "color": "#EF553B",
          "pattern": {
           "shape": ""
          }
         },
         "name": "Value",
         "offsetgroup": "Value",
         "orientation": "v",
         "showlegend": true,
         "type": "histogram",
         "x": [
          "Value"
         ],
         "xaxis": "x",
         "y": [
          3
         ],
         "yaxis": "y"
        },
        {
         "alignmentgroup": "True",
         "bingroup": "x",
         "histfunc": "avg",
         "hovertemplate": "variable=%{x}<br>Participant=Participant2<br>avg of value=%{y}<extra></extra>",
         "legendgroup": "Value",
         "marker": {
          "color": "#EF553B",
          "pattern": {
           "shape": ""
          }
         },
         "name": "Value",
         "offsetgroup": "Value",
         "orientation": "v",
         "showlegend": false,
         "type": "histogram",
         "x": [
          "Value"
         ],
         "xaxis": "x2",
         "y": [
          2
         ],
         "yaxis": "y2"
        },
        {
         "alignmentgroup": "True",
         "bingroup": "x",
         "histfunc": "avg",
         "hovertemplate": "variable=%{x}<br>Participant=Participant3<br>avg of value=%{y}<extra></extra>",
         "legendgroup": "Value",
         "marker": {
          "color": "#EF553B",
          "pattern": {
           "shape": ""
          }
         },
         "name": "Value",
         "offsetgroup": "Value",
         "orientation": "v",
         "showlegend": false,
         "type": "histogram",
         "x": [
          "Value"
         ],
         "xaxis": "x3",
         "y": [
          5
         ],
         "yaxis": "y3"
        },
        {
         "alignmentgroup": "True",
         "bingroup": "x",
         "histfunc": "avg",
         "hovertemplate": "variable=%{x}<br>Participant=Participant4<br>avg of value=%{y}<extra></extra>",
         "legendgroup": "Value",
         "marker": {
          "color": "#EF553B",
          "pattern": {
           "shape": ""
          }
         },
         "name": "Value",
         "offsetgroup": "Value",
         "orientation": "v",
         "showlegend": false,
         "type": "histogram",
         "x": [
          "Value"
         ],
         "xaxis": "x4",
         "y": [
          5
         ],
         "yaxis": "y4"
        },
        {
         "alignmentgroup": "True",
         "bingroup": "x",
         "histfunc": "avg",
         "hovertemplate": "variable=%{x}<br>Participant=Participant5<br>avg of value=%{y}<extra></extra>",
         "legendgroup": "Value",
         "marker": {
          "color": "#EF553B",
          "pattern": {
           "shape": ""
          }
         },
         "name": "Value",
         "offsetgroup": "Value",
         "orientation": "v",
         "showlegend": false,
         "type": "histogram",
         "x": [
          "Value"
         ],
         "xaxis": "x5",
         "y": [
          5
         ],
         "yaxis": "y5"
        },
        {
         "alignmentgroup": "True",
         "bingroup": "x",
         "histfunc": "avg",
         "hovertemplate": "variable=%{x}<br>Participant=Participant1<br>avg of value=%{y}<extra></extra>",
         "legendgroup": "Aim achievement",
         "marker": {
          "color": "#00cc96",
          "pattern": {
           "shape": ""
          }
         },
         "name": "Aim achievement",
         "offsetgroup": "Aim achievement",
         "orientation": "v",
         "showlegend": true,
         "type": "histogram",
         "x": [
          "Aim achievement"
         ],
         "xaxis": "x",
         "y": [
          5
         ],
         "yaxis": "y"
        },
        {
         "alignmentgroup": "True",
         "bingroup": "x",
         "histfunc": "avg",
         "hovertemplate": "variable=%{x}<br>Participant=Participant2<br>avg of value=%{y}<extra></extra>",
         "legendgroup": "Aim achievement",
         "marker": {
          "color": "#00cc96",
          "pattern": {
           "shape": ""
          }
         },
         "name": "Aim achievement",
         "offsetgroup": "Aim achievement",
         "orientation": "v",
         "showlegend": false,
         "type": "histogram",
         "x": [
          "Aim achievement"
         ],
         "xaxis": "x2",
         "y": [
          5
         ],
         "yaxis": "y2"
        },
        {
         "alignmentgroup": "True",
         "bingroup": "x",
         "histfunc": "avg",
         "hovertemplate": "variable=%{x}<br>Participant=Participant3<br>avg of value=%{y}<extra></extra>",
         "legendgroup": "Aim achievement",
         "marker": {
          "color": "#00cc96",
          "pattern": {
           "shape": ""
          }
         },
         "name": "Aim achievement",
         "offsetgroup": "Aim achievement",
         "orientation": "v",
         "showlegend": false,
         "type": "histogram",
         "x": [
          "Aim achievement"
         ],
         "xaxis": "x3",
         "y": [
          5
         ],
         "yaxis": "y3"
        },
        {
         "alignmentgroup": "True",
         "bingroup": "x",
         "histfunc": "avg",
         "hovertemplate": "variable=%{x}<br>Participant=Participant4<br>avg of value=%{y}<extra></extra>",
         "legendgroup": "Aim achievement",
         "marker": {
          "color": "#00cc96",
          "pattern": {
           "shape": ""
          }
         },
         "name": "Aim achievement",
         "offsetgroup": "Aim achievement",
         "orientation": "v",
         "showlegend": false,
         "type": "histogram",
         "x": [
          "Aim achievement"
         ],
         "xaxis": "x4",
         "y": [
          5
         ],
         "yaxis": "y4"
        },
        {
         "alignmentgroup": "True",
         "bingroup": "x",
         "histfunc": "avg",
         "hovertemplate": "variable=%{x}<br>Participant=Participant5<br>avg of value=%{y}<extra></extra>",
         "legendgroup": "Aim achievement",
         "marker": {
          "color": "#00cc96",
          "pattern": {
           "shape": ""
          }
         },
         "name": "Aim achievement",
         "offsetgroup": "Aim achievement",
         "orientation": "v",
         "showlegend": false,
         "type": "histogram",
         "x": [
          "Aim achievement"
         ],
         "xaxis": "x5",
         "y": [
          5
         ],
         "yaxis": "y5"
        },
        {
         "alignmentgroup": "True",
         "bingroup": "x",
         "histfunc": "avg",
         "hovertemplate": "variable=%{x}<br>Participant=Participant1<br>avg of value=%{y}<extra></extra>",
         "legendgroup": "Content quality",
         "marker": {
          "color": "#ab63fa",
          "pattern": {
           "shape": ""
          }
         },
         "name": "Content quality",
         "offsetgroup": "Content quality",
         "orientation": "v",
         "showlegend": true,
         "type": "histogram",
         "x": [
          "Content quality"
         ],
         "xaxis": "x",
         "y": [
          4
         ],
         "yaxis": "y"
        },
        {
         "alignmentgroup": "True",
         "bingroup": "x",
         "histfunc": "avg",
         "hovertemplate": "variable=%{x}<br>Participant=Participant2<br>avg of value=%{y}<extra></extra>",
         "legendgroup": "Content quality",
         "marker": {
          "color": "#ab63fa",
          "pattern": {
           "shape": ""
          }
         },
         "name": "Content quality",
         "offsetgroup": "Content quality",
         "orientation": "v",
         "showlegend": false,
         "type": "histogram",
         "x": [
          "Content quality"
         ],
         "xaxis": "x2",
         "y": [
          4
         ],
         "yaxis": "y2"
        },
        {
         "alignmentgroup": "True",
         "bingroup": "x",
         "histfunc": "avg",
         "hovertemplate": "variable=%{x}<br>Participant=Participant3<br>avg of value=%{y}<extra></extra>",
         "legendgroup": "Content quality",
         "marker": {
          "color": "#ab63fa",
          "pattern": {
           "shape": ""
          }
         },
         "name": "Content quality",
         "offsetgroup": "Content quality",
         "orientation": "v",
         "showlegend": false,
         "type": "histogram",
         "x": [
          "Content quality"
         ],
         "xaxis": "x3",
         "y": [
          5
         ],
         "yaxis": "y3"
        },
        {
         "alignmentgroup": "True",
         "bingroup": "x",
         "histfunc": "avg",
         "hovertemplate": "variable=%{x}<br>Participant=Participant4<br>avg of value=%{y}<extra></extra>",
         "legendgroup": "Content quality",
         "marker": {
          "color": "#ab63fa",
          "pattern": {
           "shape": ""
          }
         },
         "name": "Content quality",
         "offsetgroup": "Content quality",
         "orientation": "v",
         "showlegend": false,
         "type": "histogram",
         "x": [
          "Content quality"
         ],
         "xaxis": "x4",
         "y": [
          5
         ],
         "yaxis": "y4"
        },
        {
         "alignmentgroup": "True",
         "bingroup": "x",
         "histfunc": "avg",
         "hovertemplate": "variable=%{x}<br>Participant=Participant5<br>avg of value=%{y}<extra></extra>",
         "legendgroup": "Content quality",
         "marker": {
          "color": "#ab63fa",
          "pattern": {
           "shape": ""
          }
         },
         "name": "Content quality",
         "offsetgroup": "Content quality",
         "orientation": "v",
         "showlegend": false,
         "type": "histogram",
         "x": [
          "Content quality"
         ],
         "xaxis": "x5",
         "y": [
          5
         ],
         "yaxis": "y5"
        },
        {
         "alignmentgroup": "True",
         "bingroup": "x",
         "histfunc": "avg",
         "hovertemplate": "variable=%{x}<br>Participant=Participant1<br>avg of value=%{y}<extra></extra>",
         "legendgroup": "Instruction quality",
         "marker": {
          "color": "#FFA15A",
          "pattern": {
           "shape": ""
          }
         },
         "name": "Instruction quality",
         "offsetgroup": "Instruction quality",
         "orientation": "v",
         "showlegend": true,
         "type": "histogram",
         "x": [
          "Instruction quality"
         ],
         "xaxis": "x",
         "y": [
          4
         ],
         "yaxis": "y"
        },
        {
         "alignmentgroup": "True",
         "bingroup": "x",
         "histfunc": "avg",
         "hovertemplate": "variable=%{x}<br>Participant=Participant2<br>avg of value=%{y}<extra></extra>",
         "legendgroup": "Instruction quality",
         "marker": {
          "color": "#FFA15A",
          "pattern": {
           "shape": ""
          }
         },
         "name": "Instruction quality",
         "offsetgroup": "Instruction quality",
         "orientation": "v",
         "showlegend": false,
         "type": "histogram",
         "x": [
          "Instruction quality"
         ],
         "xaxis": "x2",
         "y": [
          4
         ],
         "yaxis": "y2"
        },
        {
         "alignmentgroup": "True",
         "bingroup": "x",
         "histfunc": "avg",
         "hovertemplate": "variable=%{x}<br>Participant=Participant3<br>avg of value=%{y}<extra></extra>",
         "legendgroup": "Instruction quality",
         "marker": {
          "color": "#FFA15A",
          "pattern": {
           "shape": ""
          }
         },
         "name": "Instruction quality",
         "offsetgroup": "Instruction quality",
         "orientation": "v",
         "showlegend": false,
         "type": "histogram",
         "x": [
          "Instruction quality"
         ],
         "xaxis": "x3",
         "y": [
          5
         ],
         "yaxis": "y3"
        },
        {
         "alignmentgroup": "True",
         "bingroup": "x",
         "histfunc": "avg",
         "hovertemplate": "variable=%{x}<br>Participant=Participant4<br>avg of value=%{y}<extra></extra>",
         "legendgroup": "Instruction quality",
         "marker": {
          "color": "#FFA15A",
          "pattern": {
           "shape": ""
          }
         },
         "name": "Instruction quality",
         "offsetgroup": "Instruction quality",
         "orientation": "v",
         "showlegend": false,
         "type": "histogram",
         "x": [
          "Instruction quality"
         ],
         "xaxis": "x4",
         "y": [
          5
         ],
         "yaxis": "y4"
        },
        {
         "alignmentgroup": "True",
         "bingroup": "x",
         "histfunc": "avg",
         "hovertemplate": "variable=%{x}<br>Participant=Participant5<br>avg of value=%{y}<extra></extra>",
         "legendgroup": "Instruction quality",
         "marker": {
          "color": "#FFA15A",
          "pattern": {
           "shape": ""
          }
         },
         "name": "Instruction quality",
         "offsetgroup": "Instruction quality",
         "orientation": "v",
         "showlegend": false,
         "type": "histogram",
         "x": [
          "Instruction quality"
         ],
         "xaxis": "x5",
         "y": [
          5
         ],
         "yaxis": "y5"
        }
       ],
       "layout": {
        "annotations": [
         {
          "font": {},
          "showarrow": false,
          "text": "Participant=Participant1",
          "x": 0.09200000000000001,
          "xanchor": "center",
          "xref": "paper",
          "y": 1,
          "yanchor": "bottom",
          "yref": "paper"
         },
         {
          "font": {},
          "showarrow": false,
          "text": "Participant=Participant2",
          "x": 0.29600000000000004,
          "xanchor": "center",
          "xref": "paper",
          "y": 1,
          "yanchor": "bottom",
          "yref": "paper"
         },
         {
          "font": {},
          "showarrow": false,
          "text": "Participant=Participant3",
          "x": 0.5,
          "xanchor": "center",
          "xref": "paper",
          "y": 1,
          "yanchor": "bottom",
          "yref": "paper"
         },
         {
          "font": {},
          "showarrow": false,
          "text": "Participant=Participant4",
          "x": 0.7040000000000002,
          "xanchor": "center",
          "xref": "paper",
          "y": 1,
          "yanchor": "bottom",
          "yref": "paper"
         },
         {
          "font": {},
          "showarrow": false,
          "text": "Participant=Participant5",
          "x": 0.908,
          "xanchor": "center",
          "xref": "paper",
          "y": 1,
          "yanchor": "bottom",
          "yref": "paper"
         }
        ],
        "autosize": true,
        "barmode": "relative",
        "legend": {
         "title": {
          "text": "variable"
         },
         "tracegroupgap": 0
        },
        "margin": {
         "t": 60
        },
        "template": {
         "data": {
          "bar": [
           {
            "error_x": {
             "color": "#2a3f5f"
            },
            "error_y": {
             "color": "#2a3f5f"
            },
            "marker": {
             "line": {
              "color": "#E5ECF6",
              "width": 0.5
             },
             "pattern": {
              "fillmode": "overlay",
              "size": 10,
              "solidity": 0.2
             }
            },
            "type": "bar"
           }
          ],
          "barpolar": [
           {
            "marker": {
             "line": {
              "color": "#E5ECF6",
              "width": 0.5
             },
             "pattern": {
              "fillmode": "overlay",
              "size": 10,
              "solidity": 0.2
             }
            },
            "type": "barpolar"
           }
          ],
          "carpet": [
           {
            "aaxis": {
             "endlinecolor": "#2a3f5f",
             "gridcolor": "white",
             "linecolor": "white",
             "minorgridcolor": "white",
             "startlinecolor": "#2a3f5f"
            },
            "baxis": {
             "endlinecolor": "#2a3f5f",
             "gridcolor": "white",
             "linecolor": "white",
             "minorgridcolor": "white",
             "startlinecolor": "#2a3f5f"
            },
            "type": "carpet"
           }
          ],
          "choropleth": [
           {
            "colorbar": {
             "outlinewidth": 0,
             "ticks": ""
            },
            "type": "choropleth"
           }
          ],
          "contour": [
           {
            "colorbar": {
             "outlinewidth": 0,
             "ticks": ""
            },
            "colorscale": [
             [
              0,
              "#0d0887"
             ],
             [
              0.1111111111111111,
              "#46039f"
             ],
             [
              0.2222222222222222,
              "#7201a8"
             ],
             [
              0.3333333333333333,
              "#9c179e"
             ],
             [
              0.4444444444444444,
              "#bd3786"
             ],
             [
              0.5555555555555556,
              "#d8576b"
             ],
             [
              0.6666666666666666,
              "#ed7953"
             ],
             [
              0.7777777777777778,
              "#fb9f3a"
             ],
             [
              0.8888888888888888,
              "#fdca26"
             ],
             [
              1,
              "#f0f921"
             ]
            ],
            "type": "contour"
           }
          ],
          "contourcarpet": [
           {
            "colorbar": {
             "outlinewidth": 0,
             "ticks": ""
            },
            "type": "contourcarpet"
           }
          ],
          "heatmap": [
           {
            "colorbar": {
             "outlinewidth": 0,
             "ticks": ""
            },
            "colorscale": [
             [
              0,
              "#0d0887"
             ],
             [
              0.1111111111111111,
              "#46039f"
             ],
             [
              0.2222222222222222,
              "#7201a8"
             ],
             [
              0.3333333333333333,
              "#9c179e"
             ],
             [
              0.4444444444444444,
              "#bd3786"
             ],
             [
              0.5555555555555556,
              "#d8576b"
             ],
             [
              0.6666666666666666,
              "#ed7953"
             ],
             [
              0.7777777777777778,
              "#fb9f3a"
             ],
             [
              0.8888888888888888,
              "#fdca26"
             ],
             [
              1,
              "#f0f921"
             ]
            ],
            "type": "heatmap"
           }
          ],
          "heatmapgl": [
           {
            "colorbar": {
             "outlinewidth": 0,
             "ticks": ""
            },
            "colorscale": [
             [
              0,
              "#0d0887"
             ],
             [
              0.1111111111111111,
              "#46039f"
             ],
             [
              0.2222222222222222,
              "#7201a8"
             ],
             [
              0.3333333333333333,
              "#9c179e"
             ],
             [
              0.4444444444444444,
              "#bd3786"
             ],
             [
              0.5555555555555556,
              "#d8576b"
             ],
             [
              0.6666666666666666,
              "#ed7953"
             ],
             [
              0.7777777777777778,
              "#fb9f3a"
             ],
             [
              0.8888888888888888,
              "#fdca26"
             ],
             [
              1,
              "#f0f921"
             ]
            ],
            "type": "heatmapgl"
           }
          ],
          "histogram": [
           {
            "marker": {
             "pattern": {
              "fillmode": "overlay",
              "size": 10,
              "solidity": 0.2
             }
            },
            "type": "histogram"
           }
          ],
          "histogram2d": [
           {
            "colorbar": {
             "outlinewidth": 0,
             "ticks": ""
            },
            "colorscale": [
             [
              0,
              "#0d0887"
             ],
             [
              0.1111111111111111,
              "#46039f"
             ],
             [
              0.2222222222222222,
              "#7201a8"
             ],
             [
              0.3333333333333333,
              "#9c179e"
             ],
             [
              0.4444444444444444,
              "#bd3786"
             ],
             [
              0.5555555555555556,
              "#d8576b"
             ],
             [
              0.6666666666666666,
              "#ed7953"
             ],
             [
              0.7777777777777778,
              "#fb9f3a"
             ],
             [
              0.8888888888888888,
              "#fdca26"
             ],
             [
              1,
              "#f0f921"
             ]
            ],
            "type": "histogram2d"
           }
          ],
          "histogram2dcontour": [
           {
            "colorbar": {
             "outlinewidth": 0,
             "ticks": ""
            },
            "colorscale": [
             [
              0,
              "#0d0887"
             ],
             [
              0.1111111111111111,
              "#46039f"
             ],
             [
              0.2222222222222222,
              "#7201a8"
             ],
             [
              0.3333333333333333,
              "#9c179e"
             ],
             [
              0.4444444444444444,
              "#bd3786"
             ],
             [
              0.5555555555555556,
              "#d8576b"
             ],
             [
              0.6666666666666666,
              "#ed7953"
             ],
             [
              0.7777777777777778,
              "#fb9f3a"
             ],
             [
              0.8888888888888888,
              "#fdca26"
             ],
             [
              1,
              "#f0f921"
             ]
            ],
            "type": "histogram2dcontour"
           }
          ],
          "mesh3d": [
           {
            "colorbar": {
             "outlinewidth": 0,
             "ticks": ""
            },
            "type": "mesh3d"
           }
          ],
          "parcoords": [
           {
            "line": {
             "colorbar": {
              "outlinewidth": 0,
              "ticks": ""
             }
            },
            "type": "parcoords"
           }
          ],
          "pie": [
           {
            "automargin": true,
            "type": "pie"
           }
          ],
          "scatter": [
           {
            "marker": {
             "colorbar": {
              "outlinewidth": 0,
              "ticks": ""
             }
            },
            "type": "scatter"
           }
          ],
          "scatter3d": [
           {
            "line": {
             "colorbar": {
              "outlinewidth": 0,
              "ticks": ""
             }
            },
            "marker": {
             "colorbar": {
              "outlinewidth": 0,
              "ticks": ""
             }
            },
            "type": "scatter3d"
           }
          ],
          "scattercarpet": [
           {
            "marker": {
             "colorbar": {
              "outlinewidth": 0,
              "ticks": ""
             }
            },
            "type": "scattercarpet"
           }
          ],
          "scattergeo": [
           {
            "marker": {
             "colorbar": {
              "outlinewidth": 0,
              "ticks": ""
             }
            },
            "type": "scattergeo"
           }
          ],
          "scattergl": [
           {
            "marker": {
             "colorbar": {
              "outlinewidth": 0,
              "ticks": ""
             }
            },
            "type": "scattergl"
           }
          ],
          "scattermapbox": [
           {
            "marker": {
             "colorbar": {
              "outlinewidth": 0,
              "ticks": ""
             }
            },
            "type": "scattermapbox"
           }
          ],
          "scatterpolar": [
           {
            "marker": {
             "colorbar": {
              "outlinewidth": 0,
              "ticks": ""
             }
            },
            "type": "scatterpolar"
           }
          ],
          "scatterpolargl": [
           {
            "marker": {
             "colorbar": {
              "outlinewidth": 0,
              "ticks": ""
             }
            },
            "type": "scatterpolargl"
           }
          ],
          "scatterternary": [
           {
            "marker": {
             "colorbar": {
              "outlinewidth": 0,
              "ticks": ""
             }
            },
            "type": "scatterternary"
           }
          ],
          "surface": [
           {
            "colorbar": {
             "outlinewidth": 0,
             "ticks": ""
            },
            "colorscale": [
             [
              0,
              "#0d0887"
             ],
             [
              0.1111111111111111,
              "#46039f"
             ],
             [
              0.2222222222222222,
              "#7201a8"
             ],
             [
              0.3333333333333333,
              "#9c179e"
             ],
             [
              0.4444444444444444,
              "#bd3786"
             ],
             [
              0.5555555555555556,
              "#d8576b"
             ],
             [
              0.6666666666666666,
              "#ed7953"
             ],
             [
              0.7777777777777778,
              "#fb9f3a"
             ],
             [
              0.8888888888888888,
              "#fdca26"
             ],
             [
              1,
              "#f0f921"
             ]
            ],
            "type": "surface"
           }
          ],
          "table": [
           {
            "cells": {
             "fill": {
              "color": "#EBF0F8"
             },
             "line": {
              "color": "white"
             }
            },
            "header": {
             "fill": {
              "color": "#C8D4E3"
             },
             "line": {
              "color": "white"
             }
            },
            "type": "table"
           }
          ]
         },
         "layout": {
          "annotationdefaults": {
           "arrowcolor": "#2a3f5f",
           "arrowhead": 0,
           "arrowwidth": 1
          },
          "autotypenumbers": "strict",
          "coloraxis": {
           "colorbar": {
            "outlinewidth": 0,
            "ticks": ""
           }
          },
          "colorscale": {
           "diverging": [
            [
             0,
             "#8e0152"
            ],
            [
             0.1,
             "#c51b7d"
            ],
            [
             0.2,
             "#de77ae"
            ],
            [
             0.3,
             "#f1b6da"
            ],
            [
             0.4,
             "#fde0ef"
            ],
            [
             0.5,
             "#f7f7f7"
            ],
            [
             0.6,
             "#e6f5d0"
            ],
            [
             0.7,
             "#b8e186"
            ],
            [
             0.8,
             "#7fbc41"
            ],
            [
             0.9,
             "#4d9221"
            ],
            [
             1,
             "#276419"
            ]
           ],
           "sequential": [
            [
             0,
             "#0d0887"
            ],
            [
             0.1111111111111111,
             "#46039f"
            ],
            [
             0.2222222222222222,
             "#7201a8"
            ],
            [
             0.3333333333333333,
             "#9c179e"
            ],
            [
             0.4444444444444444,
             "#bd3786"
            ],
            [
             0.5555555555555556,
             "#d8576b"
            ],
            [
             0.6666666666666666,
             "#ed7953"
            ],
            [
             0.7777777777777778,
             "#fb9f3a"
            ],
            [
             0.8888888888888888,
             "#fdca26"
            ],
            [
             1,
             "#f0f921"
            ]
           ],
           "sequentialminus": [
            [
             0,
             "#0d0887"
            ],
            [
             0.1111111111111111,
             "#46039f"
            ],
            [
             0.2222222222222222,
             "#7201a8"
            ],
            [
             0.3333333333333333,
             "#9c179e"
            ],
            [
             0.4444444444444444,
             "#bd3786"
            ],
            [
             0.5555555555555556,
             "#d8576b"
            ],
            [
             0.6666666666666666,
             "#ed7953"
            ],
            [
             0.7777777777777778,
             "#fb9f3a"
            ],
            [
             0.8888888888888888,
             "#fdca26"
            ],
            [
             1,
             "#f0f921"
            ]
           ]
          },
          "colorway": [
           "#636efa",
           "#EF553B",
           "#00cc96",
           "#ab63fa",
           "#FFA15A",
           "#19d3f3",
           "#FF6692",
           "#B6E880",
           "#FF97FF",
           "#FECB52"
          ],
          "font": {
           "color": "#2a3f5f"
          },
          "geo": {
           "bgcolor": "white",
           "lakecolor": "white",
           "landcolor": "#E5ECF6",
           "showlakes": true,
           "showland": true,
           "subunitcolor": "white"
          },
          "hoverlabel": {
           "align": "left"
          },
          "hovermode": "closest",
          "mapbox": {
           "style": "light"
          },
          "paper_bgcolor": "white",
          "plot_bgcolor": "#E5ECF6",
          "polar": {
           "angularaxis": {
            "gridcolor": "white",
            "linecolor": "white",
            "ticks": ""
           },
           "bgcolor": "#E5ECF6",
           "radialaxis": {
            "gridcolor": "white",
            "linecolor": "white",
            "ticks": ""
           }
          },
          "scene": {
           "xaxis": {
            "backgroundcolor": "#E5ECF6",
            "gridcolor": "white",
            "gridwidth": 2,
            "linecolor": "white",
            "showbackground": true,
            "ticks": "",
            "zerolinecolor": "white"
           },
           "yaxis": {
            "backgroundcolor": "#E5ECF6",
            "gridcolor": "white",
            "gridwidth": 2,
            "linecolor": "white",
            "showbackground": true,
            "ticks": "",
            "zerolinecolor": "white"
           },
           "zaxis": {
            "backgroundcolor": "#E5ECF6",
            "gridcolor": "white",
            "gridwidth": 2,
            "linecolor": "white",
            "showbackground": true,
            "ticks": "",
            "zerolinecolor": "white"
           }
          },
          "shapedefaults": {
           "line": {
            "color": "#2a3f5f"
           }
          },
          "ternary": {
           "aaxis": {
            "gridcolor": "white",
            "linecolor": "white",
            "ticks": ""
           },
           "baxis": {
            "gridcolor": "white",
            "linecolor": "white",
            "ticks": ""
           },
           "bgcolor": "#E5ECF6",
           "caxis": {
            "gridcolor": "white",
            "linecolor": "white",
            "ticks": ""
           }
          },
          "title": {
           "x": 0.05
          },
          "xaxis": {
           "automargin": true,
           "gridcolor": "white",
           "linecolor": "white",
           "ticks": "",
           "title": {
            "standoff": 15
           },
           "zerolinecolor": "white",
           "zerolinewidth": 2
          },
          "yaxis": {
           "automargin": true,
           "gridcolor": "white",
           "linecolor": "white",
           "ticks": "",
           "title": {
            "standoff": 15
           },
           "zerolinecolor": "white",
           "zerolinewidth": 2
          }
         }
        },
        "xaxis": {
         "anchor": "y",
         "autorange": true,
         "categoryarray": [
          "Satisfaction",
          "Value",
          "Aim achievement",
          "Content quality",
          "Instruction quality"
         ],
         "categoryorder": "array",
         "domain": [
          0,
          0.18400000000000002
         ],
         "range": [
          -0.5,
          4.5
         ],
         "title": {
          "text": "variable"
         },
         "type": "category"
        },
        "xaxis2": {
         "anchor": "y2",
         "autorange": true,
         "categoryarray": [
          "Satisfaction",
          "Value",
          "Aim achievement",
          "Content quality",
          "Instruction quality"
         ],
         "categoryorder": "array",
         "domain": [
          0.20400000000000001,
          0.388
         ],
         "matches": "x",
         "range": [
          -0.5,
          4.5
         ],
         "title": {
          "text": "variable"
         },
         "type": "category"
        },
        "xaxis3": {
         "anchor": "y3",
         "autorange": true,
         "categoryarray": [
          "Satisfaction",
          "Value",
          "Aim achievement",
          "Content quality",
          "Instruction quality"
         ],
         "categoryorder": "array",
         "domain": [
          0.40800000000000003,
          0.5920000000000001
         ],
         "matches": "x",
         "range": [
          -0.5,
          4.5
         ],
         "title": {
          "text": "variable"
         },
         "type": "category"
        },
        "xaxis4": {
         "anchor": "y4",
         "autorange": true,
         "categoryarray": [
          "Satisfaction",
          "Value",
          "Aim achievement",
          "Content quality",
          "Instruction quality"
         ],
         "categoryorder": "array",
         "domain": [
          0.6120000000000001,
          0.7960000000000002
         ],
         "matches": "x",
         "range": [
          -0.5,
          4.5
         ],
         "title": {
          "text": "variable"
         },
         "type": "category"
        },
        "xaxis5": {
         "anchor": "y5",
         "autorange": true,
         "categoryarray": [
          "Satisfaction",
          "Value",
          "Aim achievement",
          "Content quality",
          "Instruction quality"
         ],
         "categoryorder": "array",
         "domain": [
          0.8160000000000001,
          1
         ],
         "matches": "x",
         "range": [
          -0.5,
          4.5
         ],
         "title": {
          "text": "variable"
         },
         "type": "category"
        },
        "yaxis": {
         "anchor": "x",
         "autorange": true,
         "domain": [
          0,
          1
         ],
         "range": [
          0,
          5.2631578947368425
         ],
         "title": {
          "text": "avg of value"
         },
         "type": "linear"
        },
        "yaxis2": {
         "anchor": "x2",
         "autorange": true,
         "domain": [
          0,
          1
         ],
         "matches": "y",
         "range": [
          0,
          5.2631578947368425
         ],
         "showticklabels": false,
         "type": "linear"
        },
        "yaxis3": {
         "anchor": "x3",
         "autorange": true,
         "domain": [
          0,
          1
         ],
         "matches": "y",
         "range": [
          0,
          5.2631578947368425
         ],
         "showticklabels": false,
         "type": "linear"
        },
        "yaxis4": {
         "anchor": "x4",
         "autorange": true,
         "domain": [
          0,
          1
         ],
         "matches": "y",
         "range": [
          0,
          5.2631578947368425
         ],
         "showticklabels": false,
         "type": "linear"
        },
        "yaxis5": {
         "anchor": "x5",
         "autorange": true,
         "domain": [
          0,
          1
         ],
         "matches": "y",
         "range": [
          0,
          5.2631578947368425
         ],
         "showticklabels": false,
         "type": "linear"
        }
       }
      },
      "image/png": "[encoded data removed]",
      "text/html": [
       "<div>                            <div id=\"b9becfe0-ce16-458d-83d4-b327af7e4bfd\" class=\"plotly-graph-div\" style=\"height:525px; width:100%;\"></div>            <script type=\"text/javascript\">                require([\"plotly\"], function(Plotly) {                    window.PLOTLYENV=window.PLOTLYENV || {};                                    if (document.getElementById(\"b9becfe0-ce16-458d-83d4-b327af7e4bfd\")) {                    Plotly.newPlot(                        \"b9becfe0-ce16-458d-83d4-b327af7e4bfd\",                        [{\"alignmentgroup\":\"True\",\"bingroup\":\"x\",\"histfunc\":\"avg\",\"hovertemplate\":\"variable=%{x}<br>Participant=Participant1<br>avg of value=%{y}<extra></extra>\",\"legendgroup\":\"Satisfaction\",\"marker\":{\"color\":\"#636efa\",\"pattern\":{\"shape\":\"\"}},\"name\":\"Satisfaction\",\"offsetgroup\":\"Satisfaction\",\"orientation\":\"v\",\"showlegend\":true,\"type\":\"histogram\",\"x\":[\"Satisfaction\"],\"xaxis\":\"x\",\"y\":[5],\"yaxis\":\"y\"},{\"alignmentgroup\":\"True\",\"bingroup\":\"x\",\"histfunc\":\"avg\",\"hovertemplate\":\"variable=%{x}<br>Participant=Participant2<br>avg of value=%{y}<extra></extra>\",\"legendgroup\":\"Satisfaction\",\"marker\":{\"color\":\"#636efa\",\"pattern\":{\"shape\":\"\"}},\"name\":\"Satisfaction\",\"offsetgroup\":\"Satisfaction\",\"orientation\":\"v\",\"showlegend\":false,\"type\":\"histogram\",\"x\":[\"Satisfaction\"],\"xaxis\":\"x2\",\"y\":[2],\"yaxis\":\"y2\"},{\"alignmentgroup\":\"True\",\"bingroup\":\"x\",\"histfunc\":\"avg\",\"hovertemplate\":\"variable=%{x}<br>Participant=Participant3<br>avg of value=%{y}<extra></extra>\",\"legendgroup\":\"Satisfaction\",\"marker\":{\"color\":\"#636efa\",\"pattern\":{\"shape\":\"\"}},\"name\":\"Satisfaction\",\"offsetgroup\":\"Satisfaction\",\"orientation\":\"v\",\"showlegend\":false,\"type\":\"histogram\",\"x\":[\"Satisfaction\"],\"xaxis\":\"x3\",\"y\":[5],\"yaxis\":\"y3\"},{\"alignmentgroup\":\"True\",\"bingroup\":\"x\",\"histfunc\":\"avg\",\"hovertemplate\":\"variable=%{x}<br>Participant=Participant4<br>avg of value=%{y}<extra></extra>\",\"legendgroup\":\"Satisfaction\",\"marker\":{\"color\":\"#636efa\",\"pattern\":{\"shape\":\"\"}},\"name\":\"Satisfaction\",\"offsetgroup\":\"Satisfaction\",\"orientation\":\"v\",\"showlegend\":false,\"type\":\"histogram\",\"x\":[\"Satisfaction\"],\"xaxis\":\"x4\",\"y\":[5],\"yaxis\":\"y4\"},{\"alignmentgroup\":\"True\",\"bingroup\":\"x\",\"histfunc\":\"avg\",\"hovertemplate\":\"variable=%{x}<br>Participant=Participant5<br>avg of value=%{y}<extra></extra>\",\"legendgroup\":\"Satisfaction\",\"marker\":{\"color\":\"#636efa\",\"pattern\":{\"shape\":\"\"}},\"name\":\"Satisfaction\",\"offsetgroup\":\"Satisfaction\",\"orientation\":\"v\",\"showlegend\":false,\"type\":\"histogram\",\"x\":[\"Satisfaction\"],\"xaxis\":\"x5\",\"y\":[5],\"yaxis\":\"y5\"},{\"alignmentgroup\":\"True\",\"bingroup\":\"x\",\"histfunc\":\"avg\",\"hovertemplate\":\"variable=%{x}<br>Participant=Participant1<br>avg of value=%{y}<extra></extra>\",\"legendgroup\":\"Value\",\"marker\":{\"color\":\"#EF553B\",\"pattern\":{\"shape\":\"\"}},\"name\":\"Value\",\"offsetgroup\":\"Value\",\"orientation\":\"v\",\"showlegend\":true,\"type\":\"histogram\",\"x\":[\"Value\"],\"xaxis\":\"x\",\"y\":[3],\"yaxis\":\"y\"},{\"alignmentgroup\":\"True\",\"bingroup\":\"x\",\"histfunc\":\"avg\",\"hovertemplate\":\"variable=%{x}<br>Participant=Participant2<br>avg of value=%{y}<extra></extra>\",\"legendgroup\":\"Value\",\"marker\":{\"color\":\"#EF553B\",\"pattern\":{\"shape\":\"\"}},\"name\":\"Value\",\"offsetgroup\":\"Value\",\"orientation\":\"v\",\"showlegend\":false,\"type\":\"histogram\",\"x\":[\"Value\"],\"xaxis\":\"x2\",\"y\":[2],\"yaxis\":\"y2\"},{\"alignmentgroup\":\"True\",\"bingroup\":\"x\",\"histfunc\":\"avg\",\"hovertemplate\":\"variable=%{x}<br>Participant=Participant3<br>avg of value=%{y}<extra></extra>\",\"legendgroup\":\"Value\",\"marker\":{\"color\":\"#EF553B\",\"pattern\":{\"shape\":\"\"}},\"name\":\"Value\",\"offsetgroup\":\"Value\",\"orientation\":\"v\",\"showlegend\":false,\"type\":\"histogram\",\"x\":[\"Value\"],\"xaxis\":\"x3\",\"y\":[5],\"yaxis\":\"y3\"},{\"alignmentgroup\":\"True\",\"bingroup\":\"x\",\"histfunc\":\"avg\",\"hovertemplate\":\"variable=%{x}<br>Participant=Participant4<br>avg of value=%{y}<extra></extra>\",\"legendgroup\":\"Value\",\"marker\":{\"color\":\"#EF553B\",\"pattern\":{\"shape\":\"\"}},\"name\":\"Value\",\"offsetgroup\":\"Value\",\"orientation\":\"v\",\"showlegend\":false,\"type\":\"histogram\",\"x\":[\"Value\"],\"xaxis\":\"x4\",\"y\":[5],\"yaxis\":\"y4\"},{\"alignmentgroup\":\"True\",\"bingroup\":\"x\",\"histfunc\":\"avg\",\"hovertemplate\":\"variable=%{x}<br>Participant=Participant5<br>avg of value=%{y}<extra></extra>\",\"legendgroup\":\"Value\",\"marker\":{\"color\":\"#EF553B\",\"pattern\":{\"shape\":\"\"}},\"name\":\"Value\",\"offsetgroup\":\"Value\",\"orientation\":\"v\",\"showlegend\":false,\"type\":\"histogram\",\"x\":[\"Value\"],\"xaxis\":\"x5\",\"y\":[5],\"yaxis\":\"y5\"},{\"alignmentgroup\":\"True\",\"bingroup\":\"x\",\"histfunc\":\"avg\",\"hovertemplate\":\"variable=%{x}<br>Participant=Participant1<br>avg of value=%{y}<extra></extra>\",\"legendgroup\":\"Aim achievement\",\"marker\":{\"color\":\"#00cc96\",\"pattern\":{\"shape\":\"\"}},\"name\":\"Aim achievement\",\"offsetgroup\":\"Aim achievement\",\"orientation\":\"v\",\"showlegend\":true,\"type\":\"histogram\",\"x\":[\"Aim achievement\"],\"xaxis\":\"x\",\"y\":[5],\"yaxis\":\"y\"},{\"alignmentgroup\":\"True\",\"bingroup\":\"x\",\"histfunc\":\"avg\",\"hovertemplate\":\"variable=%{x}<br>Participant=Participant2<br>avg of value=%{y}<extra></extra>\",\"legendgroup\":\"Aim achievement\",\"marker\":{\"color\":\"#00cc96\",\"pattern\":{\"shape\":\"\"}},\"name\":\"Aim achievement\",\"offsetgroup\":\"Aim achievement\",\"orientation\":\"v\",\"showlegend\":false,\"type\":\"histogram\",\"x\":[\"Aim achievement\"],\"xaxis\":\"x2\",\"y\":[5],\"yaxis\":\"y2\"},{\"alignmentgroup\":\"True\",\"bingroup\":\"x\",\"histfunc\":\"avg\",\"hovertemplate\":\"variable=%{x}<br>Participant=Participant3<br>avg of value=%{y}<extra></extra>\",\"legendgroup\":\"Aim achievement\",\"marker\":{\"color\":\"#00cc96\",\"pattern\":{\"shape\":\"\"}},\"name\":\"Aim achievement\",\"offsetgroup\":\"Aim achievement\",\"orientation\":\"v\",\"showlegend\":false,\"type\":\"histogram\",\"x\":[\"Aim achievement\"],\"xaxis\":\"x3\",\"y\":[5],\"yaxis\":\"y3\"},{\"alignmentgroup\":\"True\",\"bingroup\":\"x\",\"histfunc\":\"avg\",\"hovertemplate\":\"variable=%{x}<br>Participant=Participant4<br>avg of value=%{y}<extra></extra>\",\"legendgroup\":\"Aim achievement\",\"marker\":{\"color\":\"#00cc96\",\"pattern\":{\"shape\":\"\"}},\"name\":\"Aim achievement\",\"offsetgroup\":\"Aim achievement\",\"orientation\":\"v\",\"showlegend\":false,\"type\":\"histogram\",\"x\":[\"Aim achievement\"],\"xaxis\":\"x4\",\"y\":[5],\"yaxis\":\"y4\"},{\"alignmentgroup\":\"True\",\"bingroup\":\"x\",\"histfunc\":\"avg\",\"hovertemplate\":\"variable=%{x}<br>Participant=Participant5<br>avg of value=%{y}<extra></extra>\",\"legendgroup\":\"Aim achievement\",\"marker\":{\"color\":\"#00cc96\",\"pattern\":{\"shape\":\"\"}},\"name\":\"Aim achievement\",\"offsetgroup\":\"Aim achievement\",\"orientation\":\"v\",\"showlegend\":false,\"type\":\"histogram\",\"x\":[\"Aim achievement\"],\"xaxis\":\"x5\",\"y\":[5],\"yaxis\":\"y5\"},{\"alignmentgroup\":\"True\",\"bingroup\":\"x\",\"histfunc\":\"avg\",\"hovertemplate\":\"variable=%{x}<br>Participant=Participant1<br>avg of value=%{y}<extra></extra>\",\"legendgroup\":\"Content quality\",\"marker\":{\"color\":\"#ab63fa\",\"pattern\":{\"shape\":\"\"}},\"name\":\"Content quality\",\"offsetgroup\":\"Content quality\",\"orientation\":\"v\",\"showlegend\":true,\"type\":\"histogram\",\"x\":[\"Content quality\"],\"xaxis\":\"x\",\"y\":[4],\"yaxis\":\"y\"},{\"alignmentgroup\":\"True\",\"bingroup\":\"x\",\"histfunc\":\"avg\",\"hovertemplate\":\"variable=%{x}<br>Participant=Participant2<br>avg of value=%{y}<extra></extra>\",\"legendgroup\":\"Content quality\",\"marker\":{\"color\":\"#ab63fa\",\"pattern\":{\"shape\":\"\"}},\"name\":\"Content quality\",\"offsetgroup\":\"Content quality\",\"orientation\":\"v\",\"showlegend\":false,\"type\":\"histogram\",\"x\":[\"Content quality\"],\"xaxis\":\"x2\",\"y\":[4],\"yaxis\":\"y2\"},{\"alignmentgroup\":\"True\",\"bingroup\":\"x\",\"histfunc\":\"avg\",\"hovertemplate\":\"variable=%{x}<br>Participant=Participant3<br>avg of value=%{y}<extra></extra>\",\"legendgroup\":\"Content quality\",\"marker\":{\"color\":\"#ab63fa\",\"pattern\":{\"shape\":\"\"}},\"name\":\"Content quality\",\"offsetgroup\":\"Content quality\",\"orientation\":\"v\",\"showlegend\":false,\"type\":\"histogram\",\"x\":[\"Content quality\"],\"xaxis\":\"x3\",\"y\":[5],\"yaxis\":\"y3\"},{\"alignmentgroup\":\"True\",\"bingroup\":\"x\",\"histfunc\":\"avg\",\"hovertemplate\":\"variable=%{x}<br>Participant=Participant4<br>avg of value=%{y}<extra></extra>\",\"legendgroup\":\"Content quality\",\"marker\":{\"color\":\"#ab63fa\",\"pattern\":{\"shape\":\"\"}},\"name\":\"Content quality\",\"offsetgroup\":\"Content quality\",\"orientation\":\"v\",\"showlegend\":false,\"type\":\"histogram\",\"x\":[\"Content quality\"],\"xaxis\":\"x4\",\"y\":[5],\"yaxis\":\"y4\"},{\"alignmentgroup\":\"True\",\"bingroup\":\"x\",\"histfunc\":\"avg\",\"hovertemplate\":\"variable=%{x}<br>Participant=Participant5<br>avg of value=%{y}<extra></extra>\",\"legendgroup\":\"Content quality\",\"marker\":{\"color\":\"#ab63fa\",\"pattern\":{\"shape\":\"\"}},\"name\":\"Content quality\",\"offsetgroup\":\"Content quality\",\"orientation\":\"v\",\"showlegend\":false,\"type\":\"histogram\",\"x\":[\"Content quality\"],\"xaxis\":\"x5\",\"y\":[5],\"yaxis\":\"y5\"},{\"alignmentgroup\":\"True\",\"bingroup\":\"x\",\"histfunc\":\"avg\",\"hovertemplate\":\"variable=%{x}<br>Participant=Participant1<br>avg of value=%{y}<extra></extra>\",\"legendgroup\":\"Instruction quality\",\"marker\":{\"color\":\"#FFA15A\",\"pattern\":{\"shape\":\"\"}},\"name\":\"Instruction quality\",\"offsetgroup\":\"Instruction quality\",\"orientation\":\"v\",\"showlegend\":true,\"type\":\"histogram\",\"x\":[\"Instruction quality\"],\"xaxis\":\"x\",\"y\":[4],\"yaxis\":\"y\"},{\"alignmentgroup\":\"True\",\"bingroup\":\"x\",\"histfunc\":\"avg\",\"hovertemplate\":\"variable=%{x}<br>Participant=Participant2<br>avg of value=%{y}<extra></extra>\",\"legendgroup\":\"Instruction quality\",\"marker\":{\"color\":\"#FFA15A\",\"pattern\":{\"shape\":\"\"}},\"name\":\"Instruction quality\",\"offsetgroup\":\"Instruction quality\",\"orientation\":\"v\",\"showlegend\":false,\"type\":\"histogram\",\"x\":[\"Instruction quality\"],\"xaxis\":\"x2\",\"y\":[4],\"yaxis\":\"y2\"},{\"alignmentgroup\":\"True\",\"bingroup\":\"x\",\"histfunc\":\"avg\",\"hovertemplate\":\"variable=%{x}<br>Participant=Participant3<br>avg of value=%{y}<extra></extra>\",\"legendgroup\":\"Instruction quality\",\"marker\":{\"color\":\"#FFA15A\",\"pattern\":{\"shape\":\"\"}},\"name\":\"Instruction quality\",\"offsetgroup\":\"Instruction quality\",\"orientation\":\"v\",\"showlegend\":false,\"type\":\"histogram\",\"x\":[\"Instruction quality\"],\"xaxis\":\"x3\",\"y\":[5],\"yaxis\":\"y3\"},{\"alignmentgroup\":\"True\",\"bingroup\":\"x\",\"histfunc\":\"avg\",\"hovertemplate\":\"variable=%{x}<br>Participant=Participant4<br>avg of value=%{y}<extra></extra>\",\"legendgroup\":\"Instruction quality\",\"marker\":{\"color\":\"#FFA15A\",\"pattern\":{\"shape\":\"\"}},\"name\":\"Instruction quality\",\"offsetgroup\":\"Instruction quality\",\"orientation\":\"v\",\"showlegend\":false,\"type\":\"histogram\",\"x\":[\"Instruction quality\"],\"xaxis\":\"x4\",\"y\":[5],\"yaxis\":\"y4\"},{\"alignmentgroup\":\"True\",\"bingroup\":\"x\",\"histfunc\":\"avg\",\"hovertemplate\":\"variable=%{x}<br>Participant=Participant5<br>avg of value=%{y}<extra></extra>\",\"legendgroup\":\"Instruction quality\",\"marker\":{\"color\":\"#FFA15A\",\"pattern\":{\"shape\":\"\"}},\"name\":\"Instruction quality\",\"offsetgroup\":\"Instruction quality\",\"orientation\":\"v\",\"showlegend\":false,\"type\":\"histogram\",\"x\":[\"Instruction quality\"],\"xaxis\":\"x5\",\"y\":[5],\"yaxis\":\"y5\"}],                        {\"annotations\":[{\"font\":{},\"showarrow\":false,\"text\":\"Participant=Participant1\",\"x\":0.09200000000000001,\"xanchor\":\"center\",\"xref\":\"paper\",\"y\":1.0,\"yanchor\":\"bottom\",\"yref\":\"paper\"},{\"font\":{},\"showarrow\":false,\"text\":\"Participant=Participant2\",\"x\":0.29600000000000004,\"xanchor\":\"center\",\"xref\":\"paper\",\"y\":1.0,\"yanchor\":\"bottom\",\"yref\":\"paper\"},{\"font\":{},\"showarrow\":false,\"text\":\"Participant=Participant3\",\"x\":0.5,\"xanchor\":\"center\",\"xref\":\"paper\",\"y\":1.0,\"yanchor\":\"bottom\",\"yref\":\"paper\"},{\"font\":{},\"showarrow\":false,\"text\":\"Participant=Participant4\",\"x\":0.7040000000000002,\"xanchor\":\"center\",\"xref\":\"paper\",\"y\":1.0,\"yanchor\":\"bottom\",\"yref\":\"paper\"},{\"font\":{},\"showarrow\":false,\"text\":\"Participant=Participant5\",\"x\":0.908,\"xanchor\":\"center\",\"xref\":\"paper\",\"y\":1.0,\"yanchor\":\"bottom\",\"yref\":\"paper\"}],\"barmode\":\"relative\",\"legend\":{\"title\":{\"text\":\"variable\"},\"tracegroupgap\":0},\"margin\":{\"t\":60},\"template\":{\"data\":{\"bar\":[{\"error_x\":{\"color\":\"#2a3f5f\"},\"error_y\":{\"color\":\"#2a3f5f\"},\"marker\":{\"line\":{\"color\":\"#E5ECF6\",\"width\":0.5},\"pattern\":{\"fillmode\":\"overlay\",\"size\":10,\"solidity\":0.2}},\"type\":\"bar\"}],\"barpolar\":[{\"marker\":{\"line\":{\"color\":\"#E5ECF6\",\"width\":0.5},\"pattern\":{\"fillmode\":\"overlay\",\"size\":10,\"solidity\":0.2}},\"type\":\"barpolar\"}],\"carpet\":[{\"aaxis\":{\"endlinecolor\":\"#2a3f5f\",\"gridcolor\":\"white\",\"linecolor\":\"white\",\"minorgridcolor\":\"white\",\"startlinecolor\":\"#2a3f5f\"},\"baxis\":{\"endlinecolor\":\"#2a3f5f\",\"gridcolor\":\"white\",\"linecolor\":\"white\",\"minorgridcolor\":\"white\",\"startlinecolor\":\"#2a3f5f\"},\"type\":\"carpet\"}],\"choropleth\":[{\"colorbar\":{\"outlinewidth\":0,\"ticks\":\"\"},\"type\":\"choropleth\"}],\"contour\":[{\"colorbar\":{\"outlinewidth\":0,\"ticks\":\"\"},\"colorscale\":[[0.0,\"#0d0887\"],[0.1111111111111111,\"#46039f\"],[0.2222222222222222,\"#7201a8\"],[0.3333333333333333,\"#9c179e\"],[0.4444444444444444,\"#bd3786\"],[0.5555555555555556,\"#d8576b\"],[0.6666666666666666,\"#ed7953\"],[0.7777777777777778,\"#fb9f3a\"],[0.8888888888888888,\"#fdca26\"],[1.0,\"#f0f921\"]],\"type\":\"contour\"}],\"contourcarpet\":[{\"colorbar\":{\"outlinewidth\":0,\"ticks\":\"\"},\"type\":\"contourcarpet\"}],\"heatmap\":[{\"colorbar\":{\"outlinewidth\":0,\"ticks\":\"\"},\"colorscale\":[[0.0,\"#0d0887\"],[0.1111111111111111,\"#46039f\"],[0.2222222222222222,\"#7201a8\"],[0.3333333333333333,\"#9c179e\"],[0.4444444444444444,\"#bd3786\"],[0.5555555555555556,\"#d8576b\"],[0.6666666666666666,\"#ed7953\"],[0.7777777777777778,\"#fb9f3a\"],[0.8888888888888888,\"#fdca26\"],[1.0,\"#f0f921\"]],\"type\":\"heatmap\"}],\"heatmapgl\":[{\"colorbar\":{\"outlinewidth\":0,\"ticks\":\"\"},\"colorscale\":[[0.0,\"#0d0887\"],[0.1111111111111111,\"#46039f\"],[0.2222222222222222,\"#7201a8\"],[0.3333333333333333,\"#9c179e\"],[0.4444444444444444,\"#bd3786\"],[0.5555555555555556,\"#d8576b\"],[0.6666666666666666,\"#ed7953\"],[0.7777777777777778,\"#fb9f3a\"],[0.8888888888888888,\"#fdca26\"],[1.0,\"#f0f921\"]],\"type\":\"heatmapgl\"}],\"histogram\":[{\"marker\":{\"pattern\":{\"fillmode\":\"overlay\",\"size\":10,\"solidity\":0.2}},\"type\":\"histogram\"}],\"histogram2d\":[{\"colorbar\":{\"outlinewidth\":0,\"ticks\":\"\"},\"colorscale\":[[0.0,\"#0d0887\"],[0.1111111111111111,\"#46039f\"],[0.2222222222222222,\"#7201a8\"],[0.3333333333333333,\"#9c179e\"],[0.4444444444444444,\"#bd3786\"],[0.5555555555555556,\"#d8576b\"],[0.6666666666666666,\"#ed7953\"],[0.7777777777777778,\"#fb9f3a\"],[0.8888888888888888,\"#fdca26\"],[1.0,\"#f0f921\"]],\"type\":\"histogram2d\"}],\"histogram2dcontour\":[{\"colorbar\":{\"outlinewidth\":0,\"ticks\":\"\"},\"colorscale\":[[0.0,\"#0d0887\"],[0.1111111111111111,\"#46039f\"],[0.2222222222222222,\"#7201a8\"],[0.3333333333333333,\"#9c179e\"],[0.4444444444444444,\"#bd3786\"],[0.5555555555555556,\"#d8576b\"],[0.6666666666666666,\"#ed7953\"],[0.7777777777777778,\"#fb9f3a\"],[0.8888888888888888,\"#fdca26\"],[1.0,\"#f0f921\"]],\"type\":\"histogram2dcontour\"}],\"mesh3d\":[{\"colorbar\":{\"outlinewidth\":0,\"ticks\":\"\"},\"type\":\"mesh3d\"}],\"parcoords\":[{\"line\":{\"colorbar\":{\"outlinewidth\":0,\"ticks\":\"\"}},\"type\":\"parcoords\"}],\"pie\":[{\"automargin\":true,\"type\":\"pie\"}],\"scatter\":[{\"marker\":{\"colorbar\":{\"outlinewidth\":0,\"ticks\":\"\"}},\"type\":\"scatter\"}],\"scatter3d\":[{\"line\":{\"colorbar\":{\"outlinewidth\":0,\"ticks\":\"\"}},\"marker\":{\"colorbar\":{\"outlinewidth\":0,\"ticks\":\"\"}},\"type\":\"scatter3d\"}],\"scattercarpet\":[{\"marker\":{\"colorbar\":{\"outlinewidth\":0,\"ticks\":\"\"}},\"type\":\"scattercarpet\"}],\"scattergeo\":[{\"marker\":{\"colorbar\":{\"outlinewidth\":0,\"ticks\":\"\"}},\"type\":\"scattergeo\"}],\"scattergl\":[{\"marker\":{\"colorbar\":{\"outlinewidth\":0,\"ticks\":\"\"}},\"type\":\"scattergl\"}],\"scattermapbox\":[{\"marker\":{\"colorbar\":{\"outlinewidth\":0,\"ticks\":\"\"}},\"type\":\"scattermapbox\"}],\"scatterpolar\":[{\"marker\":{\"colorbar\":{\"outlinewidth\":0,\"ticks\":\"\"}},\"type\":\"scatterpolar\"}],\"scatterpolargl\":[{\"marker\":{\"colorbar\":{\"outlinewidth\":0,\"ticks\":\"\"}},\"type\":\"scatterpolargl\"}],\"scatterternary\":[{\"marker\":{\"colorbar\":{\"outlinewidth\":0,\"ticks\":\"\"}},\"type\":\"scatterternary\"}],\"surface\":[{\"colorbar\":{\"outlinewidth\":0,\"ticks\":\"\"},\"colorscale\":[[0.0,\"#0d0887\"],[0.1111111111111111,\"#46039f\"],[0.2222222222222222,\"#7201a8\"],[0.3333333333333333,\"#9c179e\"],[0.4444444444444444,\"#bd3786\"],[0.5555555555555556,\"#d8576b\"],[0.6666666666666666,\"#ed7953\"],[0.7777777777777778,\"#fb9f3a\"],[0.8888888888888888,\"#fdca26\"],[1.0,\"#f0f921\"]],\"type\":\"surface\"}],\"table\":[{\"cells\":{\"fill\":{\"color\":\"#EBF0F8\"},\"line\":{\"color\":\"white\"}},\"header\":{\"fill\":{\"color\":\"#C8D4E3\"},\"line\":{\"color\":\"white\"}},\"type\":\"table\"}]},\"layout\":{\"annotationdefaults\":{\"arrowcolor\":\"#2a3f5f\",\"arrowhead\":0,\"arrowwidth\":1},\"autotypenumbers\":\"strict\",\"coloraxis\":{\"colorbar\":{\"outlinewidth\":0,\"ticks\":\"\"}},\"colorscale\":{\"diverging\":[[0,\"#8e0152\"],[0.1,\"#c51b7d\"],[0.2,\"#de77ae\"],[0.3,\"#f1b6da\"],[0.4,\"#fde0ef\"],[0.5,\"#f7f7f7\"],[0.6,\"#e6f5d0\"],[0.7,\"#b8e186\"],[0.8,\"#7fbc41\"],[0.9,\"#4d9221\"],[1,\"#276419\"]],\"sequential\":[[0.0,\"#0d0887\"],[0.1111111111111111,\"#46039f\"],[0.2222222222222222,\"#7201a8\"],[0.3333333333333333,\"#9c179e\"],[0.4444444444444444,\"#bd3786\"],[0.5555555555555556,\"#d8576b\"],[0.6666666666666666,\"#ed7953\"],[0.7777777777777778,\"#fb9f3a\"],[0.8888888888888888,\"#fdca26\"],[1.0,\"#f0f921\"]],\"sequentialminus\":[[0.0,\"#0d0887\"],[0.1111111111111111,\"#46039f\"],[0.2222222222222222,\"#7201a8\"],[0.3333333333333333,\"#9c179e\"],[0.4444444444444444,\"#bd3786\"],[0.5555555555555556,\"#d8576b\"],[0.6666666666666666,\"#ed7953\"],[0.7777777777777778,\"#fb9f3a\"],[0.8888888888888888,\"#fdca26\"],[1.0,\"#f0f921\"]]},\"colorway\":[\"#636efa\",\"#EF553B\",\"#00cc96\",\"#ab63fa\",\"#FFA15A\",\"#19d3f3\",\"#FF6692\",\"#B6E880\",\"#FF97FF\",\"#FECB52\"],\"font\":{\"color\":\"#2a3f5f\"},\"geo\":{\"bgcolor\":\"white\",\"lakecolor\":\"white\",\"landcolor\":\"#E5ECF6\",\"showlakes\":true,\"showland\":true,\"subunitcolor\":\"white\"},\"hoverlabel\":{\"align\":\"left\"},\"hovermode\":\"closest\",\"mapbox\":{\"style\":\"light\"},\"paper_bgcolor\":\"white\",\"plot_bgcolor\":\"#E5ECF6\",\"polar\":{\"angularaxis\":{\"gridcolor\":\"white\",\"linecolor\":\"white\",\"ticks\":\"\"},\"bgcolor\":\"#E5ECF6\",\"radialaxis\":{\"gridcolor\":\"white\",\"linecolor\":\"white\",\"ticks\":\"\"}},\"scene\":{\"xaxis\":{\"backgroundcolor\":\"#E5ECF6\",\"gridcolor\":\"white\",\"gridwidth\":2,\"linecolor\":\"white\",\"showbackground\":true,\"ticks\":\"\",\"zerolinecolor\":\"white\"},\"yaxis\":{\"backgroundcolor\":\"#E5ECF6\",\"gridcolor\":\"white\",\"gridwidth\":2,\"linecolor\":\"white\",\"showbackground\":true,\"ticks\":\"\",\"zerolinecolor\":\"white\"},\"zaxis\":{\"backgroundcolor\":\"#E5ECF6\",\"gridcolor\":\"white\",\"gridwidth\":2,\"linecolor\":\"white\",\"showbackground\":true,\"ticks\":\"\",\"zerolinecolor\":\"white\"}},\"shapedefaults\":{\"line\":{\"color\":\"#2a3f5f\"}},\"ternary\":{\"aaxis\":{\"gridcolor\":\"white\",\"linecolor\":\"white\",\"ticks\":\"\"},\"baxis\":{\"gridcolor\":\"white\",\"linecolor\":\"white\",\"ticks\":\"\"},\"bgcolor\":\"#E5ECF6\",\"caxis\":{\"gridcolor\":\"white\",\"linecolor\":\"white\",\"ticks\":\"\"}},\"title\":{\"x\":0.05},\"xaxis\":{\"automargin\":true,\"gridcolor\":\"white\",\"linecolor\":\"white\",\"ticks\":\"\",\"title\":{\"standoff\":15},\"zerolinecolor\":\"white\",\"zerolinewidth\":2},\"yaxis\":{\"automargin\":true,\"gridcolor\":\"white\",\"linecolor\":\"white\",\"ticks\":\"\",\"title\":{\"standoff\":15},\"zerolinecolor\":\"white\",\"zerolinewidth\":2}}},\"xaxis\":{\"anchor\":\"y\",\"categoryarray\":[\"Satisfaction\",\"Value\",\"Aim achievement\",\"Content quality\",\"Instruction quality\"],\"categoryorder\":\"array\",\"domain\":[0.0,0.18400000000000002],\"title\":{\"text\":\"variable\"}},\"xaxis2\":{\"anchor\":\"y2\",\"categoryarray\":[\"Satisfaction\",\"Value\",\"Aim achievement\",\"Content quality\",\"Instruction quality\"],\"categoryorder\":\"array\",\"domain\":[0.20400000000000001,0.388],\"matches\":\"x\",\"title\":{\"text\":\"variable\"}},\"xaxis3\":{\"anchor\":\"y3\",\"categoryarray\":[\"Satisfaction\",\"Value\",\"Aim achievement\",\"Content quality\",\"Instruction quality\"],\"categoryorder\":\"array\",\"domain\":[0.40800000000000003,0.5920000000000001],\"matches\":\"x\",\"title\":{\"text\":\"variable\"}},\"xaxis4\":{\"anchor\":\"y4\",\"categoryarray\":[\"Satisfaction\",\"Value\",\"Aim achievement\",\"Content quality\",\"Instruction quality\"],\"categoryorder\":\"array\",\"domain\":[0.6120000000000001,0.7960000000000002],\"matches\":\"x\",\"title\":{\"text\":\"variable\"}},\"xaxis5\":{\"anchor\":\"y5\",\"categoryarray\":[\"Satisfaction\",\"Value\",\"Aim achievement\",\"Content quality\",\"Instruction quality\"],\"categoryorder\":\"array\",\"domain\":[0.8160000000000001,1.0],\"matches\":\"x\",\"title\":{\"text\":\"variable\"}},\"yaxis\":{\"anchor\":\"x\",\"domain\":[0.0,1.0],\"title\":{\"text\":\"avg of value\"}},\"yaxis2\":{\"anchor\":\"x2\",\"domain\":[0.0,1.0],\"matches\":\"y\",\"showticklabels\":false},\"yaxis3\":{\"anchor\":\"x3\",\"domain\":[0.0,1.0],\"matches\":\"y\",\"showticklabels\":false},\"yaxis4\":{\"anchor\":\"x4\",\"domain\":[0.0,1.0],\"matches\":\"y\",\"showticklabels\":false},\"yaxis5\":{\"anchor\":\"x5\",\"domain\":[0.0,1.0],\"matches\":\"y\",\"showticklabels\":false}},                        {\"responsive\": true}                    ).then(function(){\n",
       "                            \n",
       "var gd = document.getElementById('b9becfe0-ce16-458d-83d4-b327af7e4bfd');\n",
       "var x = new MutationObserver(function (mutations, observer) {{\n",
       "        var display = window.getComputedStyle(gd).display;\n",
       "        if (!display || display === 'none') {{\n",
       "            console.log([gd, 'removed!']);\n",
       "            Plotly.purge(gd);\n",
       "            observer.disconnect();\n",
       "        }}\n",
       "}});\n",
       "\n",
       "// Listen for the removal of the full notebook cells\n",
       "var notebookContainer = gd.closest('#notebook-container');\n",
       "if (notebookContainer) {{\n",
       "    x.observe(notebookContainer, {childList: true});\n",
       "}}\n",
       "\n",
       "// Listen for the clearing of the current output cell\n",
       "var outputEl = gd.closest('.output');\n",
       "if (outputEl) {{\n",
       "    x.observe(outputEl, {childList: true});\n",
       "}}\n",
       "\n",
       "                        })                };                });            </script>        </div>"
      ]
     },
     "metadata": {},
     "output_type": "display_data"
    }
   ],
   "source": [
    "import plotly.express as px\n",
    "\n",
    "import plotly.io as pio\n",
    "pio.renderers\n",
    "pio.renderers.default = \"plotly_mimetype+notebook_connected\"\n",
    "plot = px.histogram(df_long, x='variable', y='value', color='variable', facet_col='Participant', histfunc='avg')\n",
    "plot"
   ]
  },
  {
   "cell_type": "code",
   "execution_count": null,
   "id": "4de2e5c0-a587-4ce1-a84d-0daffeec4104",
   "metadata": {},
   "outputs": [],
   "source": []
  }
 ],
 "metadata": {
  "kernelspec": {
   "display_name": "Python 3 (ipykernel)",
   "language": "python",
   "name": "python3"
  },
  "language_info": {
   "codemirror_mode": {
    "name": "ipython",
    "version": 3
   },
   "file_extension": ".py",
   "mimetype": "text/x-python",
   "name": "python",
   "nbconvert_exporter": "python",
   "pygments_lexer": "ipython3",
   "version": "3.8.12"
  }
 },
 "nbformat": 4,
 "nbformat_minor": 5
}
