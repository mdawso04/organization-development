{
 "cells": [
  {
   "cell_type": "code",
   "execution_count": null,
   "id": "547cd17b-8c47-4d9b-bdae-ca469c7979b5",
   "metadata": {},
   "outputs": [],
   "source": []
  },
  {
   "cell_type": "code",
   "execution_count": 1,
   "id": "09ea1330-15fc-45b4-8ab8-5e3551f4c8cc",
   "metadata": {
    "tags": [
     "remove-input",
     "remove-output"
    ]
   },
   "outputs": [],
   "source": [
    "from myst_nb import glue\n",
    "import pandas as pd\n",
    "import numpy as np\n",
    "\n",
    "# initialize list of lists\n",
    "data = [['Participant1', 5, 3, 5, 4, 4], ['Participant2', 2, 2, 5, 4, 4], ['Participant3', 5, 5, 5, 5, 5], ['Participant4', 5, 5, 5, 5, 5], ['Participant5', 5, 5, 5, 5, 5]]\n",
    " \n",
    "# Create the pandas DataFrame\n",
    "df = pd.DataFrame(data, columns = ['0.Participant', '1.Satisfaction', '2.Usefulness', '3.Aim achievement', '4.Content quality', '5.Instruction quality'])\n",
    "\n",
    "df_long = pd.melt(df, id_vars=['0.Participant'], value_vars=['1.Satisfaction', '2.Usefulness', '3.Aim achievement', '4.Content quality', '5.Instruction quality'])\n",
    "\n",
    "df_long_aff = df_long.copy()\n",
    "df_long_aff['Affirmative_response'] = np.where(df_long_aff['value']>4, 1, 0)\n",
    "\n",
    "df_long_aff_group = df_long_aff.groupby(['variable']).mean()\n",
    "\n",
    "#glue(\"plot\", plot)\n",
    "#glue(\"df\", df)\n",
    "#plot.show()"
   ]
  },
  {
   "cell_type": "markdown",
   "id": "bb8febe2-5d93-408b-a594-dcdc329b88ba",
   "metadata": {},
   "source": [
    "# Employee Onboarding\n",
    "\n",
    "Employee onboarding is the process of readying new employees joining the organization for the first time to start their new role.\n",
    "\n",
    "## Executive Summary\n",
    "\n",
    "##### Why is employee onboarding important\n",
    "We hire new employees to meet specific business needs (fill internal skill gaps or ongoing maintainenance of our capability pipeline) so of course we and our decision makers want to meet those needs with the best quality as possible, as quickly as possible and with as little cost as possible. As with any organizational activity, loss here takes away resources from the organizations main activities.\n",
    "\n",
    "Whats more, the new employees themselves bring expectations of making the best contribution to the organization as soon as possible. Low quality or ineffecient onboarding experiences can frustrate new employees, leading to greater churn, and therefore cost, to the organization.  \n",
    "\n",
    "##### What does employee onboarding look like\n",
    "Employee onboarding covers information sessions and enrollment procedures before starting employment (overall explanation of the business, signing of employment contract, initial social insurance), initial intensive training new employees take before fully starting their role (new employee orientation and office/factory tours) and follow up training to ensure a solid start. The length and content of onboarding activities is usually customized to the organization size (multinational corporation or mid-size firm), the business (manufacturing, service), the employee type (mid-career professional, new graduate or temporary) and legal requirements in the jurisdiction of employement (mandated health check, superannuation information session).\n",
    "\n",
    "```{list-table} Onboarding steps\n",
    ":header-rows: 1\n",
    "\n",
    "* - Onboarding step\n",
    "  - Content\n",
    "  - Point\n",
    "* - Pre-employment start\n",
    "  - digital learning related to the business\n",
    "  - Learning is optional since no employment contract exists\n",
    "* - Post-employment, pre-start\n",
    "  - Intensive orientation\n",
    "  - Cover all MUST topics\n",
    "* - Post-start\n",
    "  - Follow-up\n",
    "  - Depends on organization culture\n",
    "```\n",
    "\n",
    "##### What is best-practice of employee onboarding\n",
    "By far and sure, onboarding and orientation line-up should be developed and maintained with close coordination with business leaders. However, across organizations and industries the following items should be included to some degree.\n",
    "\n",
    "## Practitioner Guide\n",
    "In practice, onboarding learning follows the following pattern paying attention to the points highlighthed.\n",
    "\n",
    "##### Identify generic content\n",
    "Conduct internal hearings with top executives and business leaders.     \n",
    "\n",
    "##### Identify contemporary issues\n",
    "Hearings with recent entrants.\n",
    "\n",
    "## Example: Onboarding Session\n",
    "The below example shows survey questions and summarized data for a hypothetical onboarding session for new employees. \n",
    "\n",
    "##### Menu design\n",
    "1. How satisfied are you with this onboarding session?\n",
    "   1. Extremely satisfied\n",
    "   2. Satisfied\n",
    "   3. Not sure\n",
    "   4. Not satisfied\n",
    "   5. Not at all satisfied\n",
    "   \n",
    "##### Survey results"
   ]
  }
 ],
 "metadata": {
  "kernelspec": {
   "display_name": "Python 3 (ipykernel)",
   "language": "python",
   "name": "python3"
  },
  "language_info": {
   "codemirror_mode": {
    "name": "ipython",
    "version": 3
   },
   "file_extension": ".py",
   "mimetype": "text/x-python",
   "name": "python",
   "nbconvert_exporter": "python",
   "pygments_lexer": "ipython3",
   "version": "3.8.12"
  }
 },
 "nbformat": 4,
 "nbformat_minor": 5
}
