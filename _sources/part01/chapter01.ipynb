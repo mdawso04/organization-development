{
 "cells": [
  {
   "cell_type": "markdown",
   "id": "bb8febe2-5d93-408b-a594-dcdc329b88ba",
   "metadata": {},
   "source": [
    "# Chapter 1\n",
    "\n",
    "Some stuff about organization development\n",
    "   "
   ]
  },
  {
   "cell_type": "code",
   "execution_count": null,
   "id": "801ea770-323d-40fc-94d3-15405c4df62e",
   "metadata": {},
   "outputs": [],
   "source": []
  }
 ],
 "metadata": {
  "kernelspec": {
   "display_name": "Python 3 (ipykernel)",
   "language": "python",
   "name": "python3"
  },
  "language_info": {
   "codemirror_mode": {
    "name": "ipython",
    "version": 3
   },
   "file_extension": ".py",
   "mimetype": "text/x-python",
   "name": "python",
   "nbconvert_exporter": "python",
   "pygments_lexer": "ipython3",
   "version": "3.8.12"
  }
 },
 "nbformat": 4,
 "nbformat_minor": 5
}
