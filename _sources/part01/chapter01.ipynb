{
 "cells": [
  {
   "cell_type": "markdown",
   "id": "bb8febe2-5d93-408b-a594-dcdc329b88ba",
   "metadata": {},
   "source": [
    "# 'Good' Organization\n",
    "\n",
    "There's lots of theory here: learning organizations, requisite organizations etc. But in practice\n",
    "many of the people responsible for deciding the organizations direction are made by people unfamiliar with this\n",
    "theory. So in practice, we need a simple way to help these decision makers to define what a 'good' organization is.\n",
    "In practice, the key here is the 'customer'.\n",
    "\n",
    "> The definition of 'good' for any organization starts with its customer. This applies equally for profit/not-for-profit\n",
    "> organizations. 'Who do we serve?' 'What do they require?' This is the very start.\n",
    "\n",
    "\n",
    "   "
   ]
  },
  {
   "cell_type": "code",
   "execution_count": null,
   "id": "801ea770-323d-40fc-94d3-15405c4df62e",
   "metadata": {},
   "outputs": [],
   "source": []
  }
 ],
 "metadata": {
  "kernelspec": {
   "display_name": "Python 3 (ipykernel)",
   "language": "python",
   "name": "python3"
  },
  "language_info": {
   "codemirror_mode": {
    "name": "ipython",
    "version": 3
   },
   "file_extension": ".py",
   "mimetype": "text/x-python",
   "name": "python",
   "nbconvert_exporter": "python",
   "pygments_lexer": "ipython3",
   "version": "3.8.12"
  }
 },
 "nbformat": 4,
 "nbformat_minor": 5
}
