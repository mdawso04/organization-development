{
 "cells": [
  {
   "cell_type": "code",
   "execution_count": 2,
   "id": "c90d4863-d04c-4f6f-b65e-0252f71da9ba",
   "metadata": {
    "tags": [
     "remove-cell"
    ]
   },
   "outputs": [
    {
     "data": {
      "application/papermill.record/text/html": "<div>\n<style scoped>\n    .dataframe tbody tr th:only-of-type {\n        vertical-align: middle;\n    }\n\n    .dataframe tbody tr th {\n        vertical-align: top;\n    }\n\n    .dataframe thead th {\n        text-align: right;\n    }\n</style>\n<table border=\"1\" class=\"dataframe\">\n  <thead>\n    <tr style=\"text-align: right;\">\n      <th></th>\n      <th>Satisfaction</th>\n      <th>Value</th>\n      <th>Aim achievement</th>\n      <th>Content quality</th>\n      <th>Instruction quality</th>\n    </tr>\n  </thead>\n  <tbody>\n    <tr>\n      <th>Participant 1</th>\n      <td>5</td>\n      <td>3</td>\n      <td>5</td>\n      <td>4</td>\n      <td>4</td>\n    </tr>\n    <tr>\n      <th>Participant 2</th>\n      <td>2</td>\n      <td>2</td>\n      <td>5</td>\n      <td>4</td>\n      <td>4</td>\n    </tr>\n    <tr>\n      <th>Participant 3</th>\n      <td>5</td>\n      <td>5</td>\n      <td>5</td>\n      <td>5</td>\n      <td>5</td>\n    </tr>\n    <tr>\n      <th>Participant 4</th>\n      <td>5</td>\n      <td>5</td>\n      <td>5</td>\n      <td>5</td>\n      <td>5</td>\n    </tr>\n    <tr>\n      <th>Participant 5</th>\n      <td>5</td>\n      <td>5</td>\n      <td>5</td>\n      <td>5</td>\n      <td>5</td>\n    </tr>\n  </tbody>\n</table>\n</div>",
      "application/papermill.record/text/plain": "               Satisfaction  Value  Aim achievement  Content quality  \\\nParticipant 1             5      3                5                4   \nParticipant 2             2      2                5                4   \nParticipant 3             5      5                5                5   \nParticipant 4             5      5                5                5   \nParticipant 5             5      5                5                5   \n\n               Instruction quality  \nParticipant 1                    4  \nParticipant 2                    4  \nParticipant 3                    5  \nParticipant 4                    5  \nParticipant 5                    5  "
     },
     "metadata": {
      "scrapbook": {
       "mime_prefix": "application/papermill.record/",
       "name": "df"
      }
     },
     "output_type": "display_data"
    }
   ],
   "source": [
    "from myst_nb import glue\n",
    "import pandas as pd\n",
    " \n",
    "# initialize list of lists\n",
    "data = [[5, 3, 5, 4, 4], [2, 2, 5, 4, 4], [5, 5, 5, 5, 5], [5, 5, 5, 5, 5], [5, 5, 5, 5, 5]]\n",
    " \n",
    "# Create the pandas DataFrame\n",
    "df = pd.DataFrame(data, columns = ['Satisfaction', 'Value', 'Aim achievement', 'Content quality', 'Instruction quality'], \n",
    "                 index = ['Participant 1', 'Participant 2', 'Participant 3', 'Participant 4', 'Participant 5'])\n",
    "\n",
    "glue(\"df\", df, display=False)"
   ]
  },
  {
   "cell_type": "markdown",
   "id": "bb8febe2-5d93-408b-a594-dcdc329b88ba",
   "metadata": {},
   "source": [
    "# Examples\n",
    "\n",
    "````{tabbed} Sample survey questions\n",
    "\n",
    "1. How satisfied are you with this learning?\n",
    "        1. Extremely satisfied\n",
    "        2. Satisfied\n",
    "        3. Not sure\n",
    "        4. Not satisfied\n",
    "        5. Not at all satisfied\n",
    "       \n",
    "2. Do you think this learning will help you perform in your role from now on?\n",
    "        1. Yes, extremely\n",
    "        2. Yes\n",
    "        3. Not sure\n",
    "        4. No\n",
    "        5. Not at all\n",
    "       \n",
    "3. Do you think you achieve the aims of this learning?\n",
    "        1. Yes, definitely\n",
    "        2. Yes\n",
    "        3. Not sure\n",
    "        4. No\n",
    "        5. Not at all\n",
    "       \n",
    "4. Do you think the learning materials were appropriate to help you achieve the learning aims?\n",
    "        1. Yes, definitely\n",
    "        2. Yes\n",
    "        3. Not sure\n",
    "        4. No\n",
    "        5. Not at all\n",
    "       \n",
    "5. Do you think the instruction/faciliation was appropriate to help you achieve the learning aims?\n",
    "        1. Yes, definitely\n",
    "        2. Yes\n",
    "        3. Not sure\n",
    "        4. No\n",
    "        5. Not at all\n",
    "````\n",
    "\n",
    "````{tabbed} Sample survey data\n",
    "```{glue:figure} df\n",
    ":name: \"some df\"\n",
    "\n",
    "This is a **caption**\n",
    "```\n",
    "````\n",
    "\n",
    "````{tabbed} Test"
   ]
  },
  {
   "cell_type": "code",
   "execution_count": 3,
   "id": "7bf06fca-0357-4b35-9d8a-b7789b94fb4e",
   "metadata": {
    "tags": [
     "hide-input"
    ]
   },
   "outputs": [
    {
     "data": {
      "text/html": [
       "<div>\n",
       "<style scoped>\n",
       "    .dataframe tbody tr th:only-of-type {\n",
       "        vertical-align: middle;\n",
       "    }\n",
       "\n",
       "    .dataframe tbody tr th {\n",
       "        vertical-align: top;\n",
       "    }\n",
       "\n",
       "    .dataframe thead th {\n",
       "        text-align: right;\n",
       "    }\n",
       "</style>\n",
       "<table border=\"1\" class=\"dataframe\">\n",
       "  <thead>\n",
       "    <tr style=\"text-align: right;\">\n",
       "      <th></th>\n",
       "      <th>Satisfaction</th>\n",
       "      <th>Value</th>\n",
       "      <th>Aim achievement</th>\n",
       "      <th>Content quality</th>\n",
       "      <th>Instruction quality</th>\n",
       "    </tr>\n",
       "  </thead>\n",
       "  <tbody>\n",
       "    <tr>\n",
       "      <th>Participant 1</th>\n",
       "      <td>5</td>\n",
       "      <td>3</td>\n",
       "      <td>5</td>\n",
       "      <td>4</td>\n",
       "      <td>4</td>\n",
       "    </tr>\n",
       "    <tr>\n",
       "      <th>Participant 2</th>\n",
       "      <td>2</td>\n",
       "      <td>2</td>\n",
       "      <td>5</td>\n",
       "      <td>4</td>\n",
       "      <td>4</td>\n",
       "    </tr>\n",
       "    <tr>\n",
       "      <th>Participant 3</th>\n",
       "      <td>5</td>\n",
       "      <td>5</td>\n",
       "      <td>5</td>\n",
       "      <td>5</td>\n",
       "      <td>5</td>\n",
       "    </tr>\n",
       "    <tr>\n",
       "      <th>Participant 4</th>\n",
       "      <td>5</td>\n",
       "      <td>5</td>\n",
       "      <td>5</td>\n",
       "      <td>5</td>\n",
       "      <td>5</td>\n",
       "    </tr>\n",
       "    <tr>\n",
       "      <th>Participant 5</th>\n",
       "      <td>5</td>\n",
       "      <td>5</td>\n",
       "      <td>5</td>\n",
       "      <td>5</td>\n",
       "      <td>5</td>\n",
       "    </tr>\n",
       "  </tbody>\n",
       "</table>\n",
       "</div>"
      ],
      "text/plain": [
       "               Satisfaction  Value  Aim achievement  Content quality  \\\n",
       "Participant 1             5      3                5                4   \n",
       "Participant 2             2      2                5                4   \n",
       "Participant 3             5      5                5                5   \n",
       "Participant 4             5      5                5                5   \n",
       "Participant 5             5      5                5                5   \n",
       "\n",
       "               Instruction quality  \n",
       "Participant 1                    4  \n",
       "Participant 2                    4  \n",
       "Participant 3                    5  \n",
       "Participant 4                    5  \n",
       "Participant 5                    5  "
      ]
     },
     "execution_count": 3,
     "metadata": {},
     "output_type": "execute_result"
    }
   ],
   "source": [
    "import pandas as pd\n",
    " \n",
    "# initialize list of lists\n",
    "data = [[5, 3, 5, 4, 4], [2, 2, 5, 4, 4], [5, 5, 5, 5, 5], [5, 5, 5, 5, 5], [5, 5, 5, 5, 5]]\n",
    " \n",
    "# Create the pandas DataFrame\n",
    "df = pd.DataFrame(data, columns = ['Satisfaction', 'Value', 'Aim achievement', 'Content quality', 'Instruction quality'], \n",
    "                 index = ['Participant 1', 'Participant 2', 'Participant 3', 'Participant 4', 'Participant 5'])\n",
    "\n",
    "df"
   ]
  },
  {
   "cell_type": "markdown",
   "id": "0f58602f-fb7d-46cd-8bb3-eb5883cad6fd",
   "metadata": {},
   "source": [
    "````"
   ]
  }
 ],
 "metadata": {
  "kernelspec": {
   "display_name": "Python 3 (ipykernel)",
   "language": "python",
   "name": "python3"
  },
  "language_info": {
   "codemirror_mode": {
    "name": "ipython",
    "version": 3
   },
   "file_extension": ".py",
   "mimetype": "text/x-python",
   "name": "python",
   "nbconvert_exporter": "python",
   "pygments_lexer": "ipython3",
   "version": "3.8.12"
  }
 },
 "nbformat": 4,
 "nbformat_minor": 5
}
