{
 "cells": [
  {
   "cell_type": "markdown",
   "id": "fd6f0bb8-ade6-4cf3-9ca6-38ff4365cead",
   "metadata": {},
   "source": [
    "# organization development\n",
    "\n",
    "Notes from organizational development practice\n",
    "\n",
    "## Example"
   ]
  },
  {
   "cell_type": "code",
   "execution_count": null,
   "id": "1b4b243a-47a3-49f8-8a0e-fc46d41ba57e",
   "metadata": {},
   "outputs": [],
   "source": []
  }
 ],
 "metadata": {
  "kernelspec": {
   "display_name": "Python 3 (ipykernel)",
   "language": "python",
   "name": "python3"
  },
  "language_info": {
   "codemirror_mode": {
    "name": "ipython",
    "version": 3
   },
   "file_extension": ".py",
   "mimetype": "text/x-python",
   "name": "python",
   "nbconvert_exporter": "python",
   "pygments_lexer": "ipython3",
   "version": "3.8.12"
  }
 },
 "nbformat": 4,
 "nbformat_minor": 5
}
