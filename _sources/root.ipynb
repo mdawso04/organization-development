{
 "cells": [
  {
   "cell_type": "markdown",
   "id": "fd6f0bb8-ade6-4cf3-9ca6-38ff4365cead",
   "metadata": {},
   "source": [
    "# Organization Development for Young and Old\n",
    "\n",
    "A straightforward approach to learning how to make your (customer's) org a bit better. 1-topic 1-article so you can\n",
    "pick and choose as you need.\n",
    "\n",
    "## Contribute\n",
    "\n",
    "Organization Development for Young and Old is an open-source document. Feel free to use as you like (with attribution!).\n",
    "When you do, you will no doubt find holes, gaps and shortcomings so it can be better for us all next time. Add an issue to the\n",
    "GitHub issue list. \n",
    "\n",
    "## Contents\n",
    "```{tableofcontents}\n",
    "```"
   ]
  },
  {
   "cell_type": "markdown",
   "id": "47f9819d-1019-4a30-b6e0-b3d7d917fd4a",
   "metadata": {},
   "source": []
  }
 ],
 "metadata": {
  "kernelspec": {
   "display_name": "Python 3 (ipykernel)",
   "language": "python",
   "name": "python3"
  },
  "language_info": {
   "codemirror_mode": {
    "name": "ipython",
    "version": 3
   },
   "file_extension": ".py",
   "mimetype": "text/x-python",
   "name": "python",
   "nbconvert_exporter": "python",
   "pygments_lexer": "ipython3",
   "version": "3.8.12"
  }
 },
 "nbformat": 4,
 "nbformat_minor": 5
}
